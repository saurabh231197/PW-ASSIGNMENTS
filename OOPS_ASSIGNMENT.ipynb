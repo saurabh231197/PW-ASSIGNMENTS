{
  "nbformat": 4,
  "nbformat_minor": 0,
  "metadata": {
    "colab": {
      "provenance": [],
      "collapsed_sections": [
        "7FV1pbS-CsLR"
      ]
    },
    "kernelspec": {
      "name": "python3",
      "display_name": "Python 3"
    },
    "language_info": {
      "name": "python"
    }
  },
  "cells": [
    {
      "cell_type": "markdown",
      "source": [
        "# Python OOPs Questions"
      ],
      "metadata": {
        "id": "crWNyGVv_lcz"
      }
    },
    {
      "cell_type": "markdown",
      "source": [
        "## OOPS Assignment\n",
        "-----------------------------------------------------------------\n",
        "Q1. What is Object-Oriented Programming (OOP)?\n",
        "-  OOP is a programming paradigm, or style of programming, that organizes software design around data or objects, rather than functions and logic.\n",
        "- __Benefits of OOPS:-__\n",
        "    - Flexibility\n",
        "    - Modularity\n",
        "    - Reusability\n",
        "    - Maintainability\n",
        "- __FOR EXAMPLE:-__ You're building a library management system, so you might model a book, a member, and a librarian as objects. The objects will each have properties and methods for example, a book might have properties such as a title, author, and published date, while a member has methods such as the ability to borrow and return books.\n",
        "-----------------------------------------------------------------\n",
        "Q2. What is a class in OOP?\n",
        "-  The class is a user-defined data structure that combines the methods and data members into a single entity.\n",
        "- Classes are sort of like blueprints or templates for code in the production of objects.\n",
        "- You can make as many objects as you desire using a class.\n",
        "\n",
        "      #syntax of class\n",
        "\n",
        "          class Class_name:\n",
        "            \"\"\"Doc String\"\"\"\n",
        "            statement 1\n",
        "            statement 2\n",
        "            ..............\n",
        "-----------------------------------------------------------------\n",
        "Q3.  What is an object in OOP?\n",
        "-  Objects are instances of classes.It consists of a set of methods and attributes. Actions are carried out using a class's object.\n",
        "- Any object needs to have unique identification. An attribute of an object reflects both the properties and the state of the object.\n",
        "-----------------------------------------------------------------\n",
        "Q4. What is the difference between abstraction and encapsulation?\n",
        "-  Abstraction and encapsulation are two fundamental concepts in OOPs that work together to create well-structured and maintainable code. While they are often used interchangeably, they have distinct meanings.\n",
        "- __Abstraction:__\n",
        "    - Abstraction focuses on hiding implementation details aims at delivering only the minimum amount of functionality to ease the user's interaction and avoid complications.\n",
        "    - This is achieved using abstract classes, interfaces, and abstract methods that describe what a system can do but not how it does it. It's just seeing a car as one piece without having to understand what's inside its parts.\n",
        "- __Encapusation:__\n",
        "    - Encapsulation focuses on bundling data and methods within a single object ensures that the data is not accessible or modifiable without proper authorization, thus maintaining its integrity and privacy.\n",
        "    - Access modifiers such as public, private, and protected control the visibility. It is similar to a capsule that keeps the medicine safe and protects it from the environment.\n",
        "-----------------------------------------------------------------\n",
        "Q5. What are dunder methods in Python?\n",
        "-  Dunder methods, also known as magic methods or special methods, in Python are special reserved methods that are surrounded by double underscores, like this:- `__method__`. These methods allow you to define how instances of your classes behave when they are used with built-in Python functions or operators.\n",
        "\n",
        "- __Some common dunder methods are:__\n",
        "   -  `__init__`\n",
        "   - `__str__`\n",
        "   - `__repr__`\n",
        "   - `__add__`\n",
        "   - `__len__`\n",
        "\n",
        "          #you can get all dunder methods associated with strings\n",
        "          dir(str)\n",
        "\n",
        "          #you can get all dunder methods associated with integers\n",
        "          dir(int)\n",
        "-----------------------------------------------------------------\n",
        "Q6. Explain the concept of inheritance in OOP.\n",
        "- Inheritance: Inheritance plays a significant role in an object-oriented programming language.\n",
        "- Inheritance in Python refers to the process of a child class receiving the parent class's properties.\n",
        "- The reuse of code is inheritance's main goal.\n",
        "- Instead of starting from scratch when developing a new class, we can use the existing class instead of re-creating it from scratch.\n",
        "\n",
        "        #synatx of inheritance\n",
        "\n",
        "          class Baseclass:\n",
        "            #body of Baseclass\n",
        "          class Derivedclass(Baseclass):\n",
        "            #body of Derivedclass\n",
        "-----------------------------------------------------------------\n",
        "Q7.  What is polymorphism in OOP?\n",
        "-  In OOP, polymorphism refers to an object's capacity to assume several forms.\n",
        "Simply said, polymorphism enables us to carry out a single activity in a variety of ways.\n",
        "- From the Greek words poly (many) and morphism (forms), we get polymorphism. Polymorphism is the capacity to assume several shapes.\n",
        "- In python, polymorphism is achieved through method overloading and method overriding.\n",
        "    - __Method overloading__ is the practice of invoking the same method more than once with different parameters.\n",
        "    - __Method overriding__ is the process of providing a different implementation for a method that is already defined in the superclass within a subclass.\n",
        "-----------------------------------------------------------------\n",
        "Q8. How is encapsulation achieved in Python?\n",
        "-  Encapsulation is a Python technique for combining data and functions into a\n",
        "single object. A class, for instance, contains all the data i.e. methods and variables\n",
        "- A class's data members and methods can be made private or protected in\n",
        "order to achieve encapsulation. Direct access modifiers like public, private and protected don't exist in Python. Though Single and double underscores can be used to accomplish this.\n",
        "\n",
        "- The three different access modifier types that Python offers are:-\n",
        "    - __Public member:__ from outside of class, anywhere accessible.\n",
        "    - __Private member:__ Within the class, accessible.\n",
        "    - __Protected member:__ Within the class and its subclasses, accessible.\n",
        "-----------------------------------------------------------------\n",
        "Q9. What is a constructor in Python?\n",
        "-  A constructor is a particular method used in object-oriented programming to\n",
        "generate and initialise an object of a class. In the class, this method is defined.\n",
        "- A constructor is a special method within a class that is automatically called when an object of that class is created.\n",
        "\n",
        "        #synatx of constructor\n",
        "\n",
        "        def __int__(self):\n",
        "          #body of constructor\n",
        "- __Types of constructor:__\n",
        "    - __Default constructor:__ If no constructor is defined, Python will provide a default constructor.\n",
        "    - __Non-Parametrized constructor:__ Non-parameterized constructors are those that take no parameters.\n",
        "    - __Parametrized constructor:__ A parameterized constructor is one with specified arguments or parameters.\n",
        "-----------------------------------------------------------------\n",
        "Q10. What are class and static methods in Python?\n",
        "- __Class methods:__\n",
        "    - Class methods are methods that are bound to the class and not the instance of the class. They can access or modify class state that applies across all instances of the class. Class methods are defined using the `@classmethod` decorator.\n",
        "    \n",
        "          #syntax\n",
        "\n",
        "            class ClassName(object):\n",
        "            @classmethod\n",
        "            def method(cls, arg1, arg2, ...):\n",
        "              ....\n",
        "\n",
        "- __Static methods:__\n",
        "    - Static methods are methods that belong to the class and don't access or modify class or instance state. They are defined using the `@staticmethod` decorator.\n",
        "\n",
        "          #syntax\n",
        "            class ClassName(object):\n",
        "            @staticmethod\n",
        "            def method(arg1, arg2, ...):\n",
        "              ....\n",
        "-----------------------------------------------------------------\n",
        "Q11. What is method overloading in Python?\n",
        "- Two or more methods have the same name but different numbers of parameters or different types of parameters, or both. These methods are called overloaded methods and this is called method overloading.\n",
        "\n",
        "          #Example\n",
        "\n",
        "            class Calculator:\n",
        "              def add(self, *args):\n",
        "                  result = 0\n",
        "                  for num in args:\n",
        "                      result += num\n",
        "                  return result\n",
        "\n",
        "            calc = Calculator()\n",
        "            print(calc.add(2, 3))  # Output: 5\n",
        "            print(calc.add(1, 2, 3, 4))  # Output: 10\n",
        "-----------------------------------------------------------------\n",
        "Q12. What is method overriding in OOP?\n",
        "- Method overriding is an ability of any object-oriented programming language that allows a subclass or child class to provide a specific implementation of a method that is already provided by one of its super-classes or parent classes.\n",
        "\n",
        "          #Example\n",
        "            class Animal:\n",
        "              def make_sound(self):\n",
        "                  print(\"Generic animal sound\")\n",
        "\n",
        "            class Dog(Animal):\n",
        "              def make_sound(self):\n",
        "                  print(\"Woof!\")\n",
        "\n",
        "            # Create an object of the Dog class\n",
        "            my_dog = Dog()\n",
        "\n",
        "            # Call the make_sound() method on the Dog object\n",
        "            my_dog.make_sound()  # Output: Woof!\n",
        "\n",
        "-----------------------------------------------------------------\n",
        "Q13.  What is a property decorator in Python?\n",
        "- In Python, a property decorator is a powerful tool that allows you to define class attributes as if they were regular attributes while actually controlling their access and behavior behind the scenes.\n",
        "- __Benefits of using property decorator are:__\n",
        "    - Data validation\n",
        "    - Flexibility\n",
        "    - Readability\n",
        "- Property decorators provide a clean and elegant way to manage attribute access in Python classes. By using property decorators effectively, you can create more robust and well-structured object-oriented code because they enhance code readability, maintainability, and data integrity.\n",
        "-----------------------------------------------------------------\n",
        "Q14. Why is polymorphism important in OOP?\n",
        "- Polymorphism is a core concept in Object-Oriented Programming (OOP) that enables a single interface or method to operate differently based on the object it is acting upon.\n",
        "\n",
        "- __Importance of polymorphism:__\n",
        "\n",
        "    - __Code Reusability:__ This reduces code duplication and enhances reusability.\n",
        "    - __Flexibility and Extensibility:__ This makes it easier to extend and maintain systems over time.\n",
        "    - __Simplified Code:__ Polymorphism simplifies code by allowing developers to use common interfaces for different types, which leads to cleaner and more readable code.\n",
        "    - __Dynamic Behavior:__ Polymorphism supports dynamic method invocation enabling decisions to be made at runtime about which method to call.\n",
        "-----------------------------------------------------------------\n",
        "Q15. What is an abstract class in Python?\n",
        "- An abstract class is a class that cannot be instantiated directly. It serves as a blueprint or template for other classes, defining a common interface and enforcing a specific structure.\n",
        "-----------------------------------------------------------------\n",
        "Q16. What are the advantages of OOP?\n",
        "- The advantages of OOPs are:\n",
        "\n",
        "    - __Reusability:__ This promotes code reuse, reducing development time and effort.\n",
        "    - __Flexibility:__ This makes the code more adaptable to changes and easier to extend with new features.\n",
        "    - __Improved Code Readability:__ OOP promotes a more organized and structured approach to coding, making it easier for developers to understand and maintain the codebase.\n",
        "    - __Collaboration:__ OOP facilitates collaboration among developers by providing a clear and well-defined structure for organizing code.\n",
        "    - __Real-World Modeling:__ OOP allows you to model real-world entities and their relationships in a natural and intuitive way.\n",
        "\n",
        "-----------------------------------------------------------------\n",
        "Q17. What is the difference between a class variable and an instance variable?\n",
        "-  __Class variable:__\n",
        "\n",
        "    - __Class Variables Shared among all instances:__ Class variables are shared by all objects created from the same class.\n",
        "    - __Defined within the class:__ They are defined within the class but outside any method.\n",
        "    - __Accessed using the class name:__ Accessed using the class name followed by the dot operator like this:-  `ClassName.variable_name`\n",
        "\n",
        "-  __Instance variable:__\n",
        "\n",
        "    - __Unique to each instance:__ Instance variables are specific to each object created from the class.\n",
        "    - __Defined within the constructor__ `__init__` __or other methods:__ Usually defined within the `__init__` method.\n",
        "    - __Accessed using the object name:__ Accessed using the object name followed by the dot operator like this:- `object_name.variable_name`\n",
        "-----------------------------------------------------------------\n",
        "Q18. What is multiple inheritance in Python?\n",
        "- In Multiple inheritance One child class may inherit from several parent classes when there is multiple inheritance.\n",
        "- Multiple inheritance allows classes to inherit and combine the behavior of multiple parent classes, providing flexibility in designing complex class hierarchies. However, it's important to carefully consider the design and\n",
        "potential complexities that can arise when using multiple inheritance.\n",
        "\n",
        "                                ---------- Parent Class 1\n",
        "            Child class --------       \n",
        "                                ---------- Parent Class 2\n",
        "\n",
        "-----------------------------------------------------------------\n",
        "Q19.Explain the purpose of `__str__` and  `__repr__` methods in Python?\n",
        "- In Python, `__str__` and `__repr__` are dunder methods used to control how objects are represented as strings.\n",
        "    - `__str__`(self): This method is called when the str() function is used on an instance of the class. It should return a string representation of the object.\n",
        "\n",
        "            #example\n",
        "\n",
        "              class Myclass:\n",
        "                def __init__(self, x):\n",
        "                  self.x = x\n",
        "                def __str__(self):\n",
        "                  return f'Myclass instance with x = {self.x}'\n",
        "              obj = Myclass(10)\n",
        "              print(str(obj))\n",
        "            \n",
        "            #output\n",
        "\n",
        "            Myclass instance with x = 10\n",
        "\n",
        "    - `__repr__`(self): This method is called when the repr() function is used on an instance of the class. It should return an unambiguous string representation of the object, which can be used to recreate the object.\n",
        "\n",
        "            #example\n",
        "\n",
        "              class Myclass:\n",
        "                def __init__(self, x):\n",
        "                  self.x = x\n",
        "                def __repr__(self):\n",
        "                  return f'Myclass ({self.x})'\n",
        "              obj = Myclass(10)\n",
        "              print(repr(obj))\n",
        "\n",
        "            #output\n",
        "\n",
        "            Myclass (10)\n",
        "-----------------------------------------------------------------\n",
        "Q20. What is the significance of the `super()` function in Python?\n",
        "- The `super()` function is essential in Python for managing inheritance. It simplifies code, promotes reusability, and ensures proper initialization and method resolution in complex inheritance scenarios. It is particularly powerful in systems with multiple inheritance or dynamic class hierarchies.\n",
        "\n",
        "- __Benefits of super() function:-__\n",
        "    - Accessing Parent Class Methods and Attributes\n",
        "    - Avoiding Explicit Parent Class Names\n",
        "    - Working with Multiple Inheritance\n",
        "    - Code Reusability\n",
        "-----------------------------------------------------------------\n",
        "Q21. What is the significance of the `__del__` method in Python?\n",
        "-  The `__del__` method in Python is a special method, also known as the destructor, which is called when an object is about to be destroyed. Its primary purpose is to define cleanup actions that need to occur before the object's memory is deallocated by the garbage collector.\n",
        "\n",
        "- Use of `__del__` method:-\n",
        "\n",
        "    - __Cleanup Operations:__ The primary purpose of `__del__` is to perform any necessary cleanup operations before an object is permanently removed from memory.\n",
        "    - Closing files that the object was using.\n",
        "    - Releasing external resources like:- network connections or database connections.\n",
        "    - Performing any other necessary cleanup tasks.\n",
        "\n",
        "\n",
        "-----------------------------------------------------------------\n",
        "Q22. What is the difference between `@staticmethod` and `@classmethod` in Python?\n",
        "- __@staticmethod:__\n",
        "\n",
        "  - __No Implicit First Argument:__ It does not take any implicit first argument (like self or cls).\n",
        "  - __No Access to Class or Instance:__ It cannot access or modify instance-level (self) or class-level (cls) data.\n",
        "  - __Utility Functions:__ Primarily used for utility functions that logically belong to the class but don't need to access class or instance-specific data.\n",
        "  - __Inheritance:__ Static methods can be inherited and overridden by subclasses.\n",
        "  - __Called on Class or Instance:__ Can be called on both the class and its instances.\n",
        "\n",
        "- __@classmethod:__\n",
        "  - __Implicit First Argument (cls):__ It takes the class (cls) as the first argument.\n",
        "  - __Access to Class Data:__ It has access to class-level data and can modify class-level attributes.\n",
        "  - __Alternative Constructors:__ Often used for defining alternative constructors or methods that operate on the class rather than an instance.\n",
        "  - __Inheritance:__ Class methods can be inherited and overridden by subclasses, and they will receive the subclass as cls when called from an instance.\n",
        "  - __Called on Class or Instance:__ Can be called on both the class and its instances, but always receives the class as the first argument.\n",
        "\n",
        "-----------------------------------------------------------------\n",
        "Q23.  How does polymorphism work in Python with inheritance?\n",
        "- Polymorphism, in the context of object-oriented programming, allows objects of different classes to be treated as objects of a common type. In Python, inheritance plays a crucial role in achieving polymorphism.\n",
        "\n",
        "            #Example\n",
        "              class Animal:\n",
        "                  def make_sound(self):\n",
        "                      pass\n",
        "\n",
        "              class Dog(Animal):\n",
        "                  def make_sound(self):\n",
        "                      print(\"Woof!\")\n",
        "\n",
        "              class Cat(Animal):\n",
        "                  def make_sound(self):\n",
        "                      print(\"Meow!\")\n",
        "\n",
        "              def animal_sounds(animals):\n",
        "                  for animal in animals:\n",
        "                      animal.make_sound()\n",
        "\n",
        "              animals = [Dog(), Cat()]\n",
        "              animal_sounds(animals)\n",
        "            \n",
        "            #output\n",
        "\n",
        "              Woof!\n",
        "              Meow!\n",
        "\n",
        "-----------------------------------------------------------------\n",
        "Q24. What is method chaining in Python OOP?\n",
        "-  Method chaining is a powerful technique in Python that allows you to call multiple methods on an object in a single, continuous line of code. This approach makes the code cleaner, more readable, and often easier to maintain.\n",
        "\n",
        "- __Benefits of method chaining in python are:__\n",
        "    - __Improved Readability__\n",
        "    - __Enhanced Fluency__\n",
        "    - __Reduced Boilerplate__\n",
        "\n",
        "              #Example\n",
        "\n",
        "                class Car:\n",
        "                    def __init__(self, color):\n",
        "                        self.color = color\n",
        "\n",
        "                    def start(self):\n",
        "                        print(\"Car started.\")\n",
        "                        return self  # Return the object itself\n",
        "\n",
        "                    def accelerate(self):\n",
        "                        print(\"Car accelerating.\")\n",
        "                        return self\n",
        "\n",
        "                    def brake(self):\n",
        "                        print(\"Car braking.\")\n",
        "                        return self\n",
        "\n",
        "                my_car = Car(\"red\")\n",
        "                my_car.start().accelerate().brake()\n",
        "\n",
        "              #output\n",
        "\n",
        "                Car started.\n",
        "                Car accelerating.\n",
        "                Car braking.\n",
        "-----------------------------------------------------------------\n",
        "Q25. What is the purpose of the `__call__` method in Python?\n",
        "- The `__call__` method in Python allows an instance of a class to be called as if it were a function. This means that you can make objects of a class behave like callable functions. When you define the `__call__` method in a class, you enable instances of that class to be invoked using parentheses, just like a function.\n",
        "- __Purpose:__\n",
        "    - __Making Objects Callable:__ Allows instances of a class to be called like a function using parentheses ().\n",
        "    - __Custom Behavior:__ Enables defining custom logic that runs when the object is called.\n",
        "    - __Dynamic Dispatch:__ Facilitates dynamic behavior changes, like handling different arguments or performing computations based on the call.\n",
        "    - __Functionality Encapsulation:__ Lets you encapsulate behavior inside an object, making the object more versatile.\n",
        "-----------------------------------------------------------------"
      ],
      "metadata": {
        "id": "rwDU1JcS_06K"
      }
    },
    {
      "cell_type": "markdown",
      "source": [
        "# Practical Questions\n"
      ],
      "metadata": {
        "id": "7FV1pbS-CsLR"
      }
    },
    {
      "cell_type": "code",
      "source": [
        "#Practical question\n",
        "'''\n",
        "Q1.  Create a parent class Animal with a method speak() that prints a generic message. Create a child class Dog\n",
        "that overrides the speak() method to print \"Bark!\"\n",
        "\n",
        "'''\n",
        "'''\n",
        "Answere:-1\n",
        "'''\n",
        "class Animal:\n",
        "    def speak(self):\n",
        "        print(\"Some generic sound\")\n",
        "class Dog(Animal):\n",
        "    def speak(self):\n",
        "        print(\"Bark!\")\n",
        "\n",
        "generic_animal = Animal()\n",
        "dog = Dog()\n",
        "\n",
        "generic_animal.speak()\n",
        "dog.speak()"
      ],
      "metadata": {
        "id": "5e3em61_C552",
        "colab": {
          "base_uri": "https://localhost:8080/"
        },
        "outputId": "533b1605-b686-4b50-e4d9-669696870315"
      },
      "execution_count": null,
      "outputs": [
        {
          "output_type": "stream",
          "name": "stdout",
          "text": [
            "Some generic sound\n",
            "Bark!\n"
          ]
        }
      ]
    },
    {
      "cell_type": "code",
      "source": [
        "#Practical question\n",
        "'''\n",
        "Q2. Write a program to create an abstract class Shape with a method area(). Derive classes Circle and Rectangle\n",
        "from it and implement the area() method in both.\n",
        "\n",
        "'''\n",
        "'''\n",
        "Answere:-2\n",
        "'''\n",
        "from abc import ABC, abstractmethod\n",
        "import math\n",
        "\n",
        "class Shape(ABC):\n",
        "    @abstractmethod\n",
        "    def area(self):\n",
        "        pass\n",
        "\n",
        "class Circle(Shape):\n",
        "    def __init__(self, radius):\n",
        "        self.radius = radius\n",
        "\n",
        "    def area(self):\n",
        "        return math.pi * self.radius**2\n",
        "\n",
        "class Rectangle(Shape):\n",
        "    def __init__(self, width, height):\n",
        "        self.width = width\n",
        "        self.height = height\n",
        "\n",
        "    def area(self):\n",
        "        return self.width * self.height\n",
        "\n",
        "circle = Circle(5)\n",
        "print(\"Circle area:\", circle.area())\n",
        "\n",
        "rectangle = Rectangle(4, 6)\n",
        "print(\"Rectangle area:\", rectangle.area())"
      ],
      "metadata": {
        "id": "k0IVisbBDBOc",
        "colab": {
          "base_uri": "https://localhost:8080/"
        },
        "outputId": "b9d31510-0f4a-487d-aed0-25f5faaac6f6"
      },
      "execution_count": null,
      "outputs": [
        {
          "output_type": "stream",
          "name": "stdout",
          "text": [
            "Circle area: 78.53981633974483\n",
            "Rectangle area: 24\n"
          ]
        }
      ]
    },
    {
      "cell_type": "code",
      "source": [
        "#Practical question\n",
        "'''\n",
        "Q3. Implement a multi-level inheritance scenario where a class Vehicle has an attribute type. Derive a class Car\n",
        "and further derive a class ElectricCar that adds a battery attribute.\n",
        "\n",
        "'''\n",
        "'''\n",
        "Answere:-3\n",
        "'''\n",
        "class Vehicle:\n",
        "    def __init__(self, vehicle_type):\n",
        "        self.vehicle_type = vehicle_type\n",
        "\n",
        "class Car(Vehicle):\n",
        "    def __init__(self, vehicle_type, brand, model):\n",
        "        super().__init__(vehicle_type)\n",
        "        self.brand = brand\n",
        "        self.model = model\n",
        "\n",
        "class ElectricCar(Car):\n",
        "    def __init__(self, vehicle_type, brand, model, battery_capacity):\n",
        "        super().__init__(vehicle_type, brand, model)\n",
        "        self.battery_capacity = battery_capacity\n",
        "\n",
        "#i'm using `\\n` to print all the details in new line\n",
        "    def display_info(self):\n",
        "        return (f\"Type: {self.vehicle_type},\\nBrand: {self.brand},\\nModel: {self.model}, \"\n",
        "                f\"\\nBattery Capacity: {self.battery_capacity} kWh\")\n",
        "\n",
        "electric_car = ElectricCar(\"Electric\", \"Tesla\", \"Model S\", 100)\n",
        "\n",
        "print(electric_car.display_info())"
      ],
      "metadata": {
        "id": "8whdbvomDA3o",
        "colab": {
          "base_uri": "https://localhost:8080/"
        },
        "outputId": "df02c72d-0783-4f2e-ac52-b52d91330f05"
      },
      "execution_count": null,
      "outputs": [
        {
          "output_type": "stream",
          "name": "stdout",
          "text": [
            "Type: Electric,\n",
            "Brand: Tesla,\n",
            "Model: Model S, \n",
            "Battery Capacity: 100 kWh\n"
          ]
        }
      ]
    },
    {
      "cell_type": "code",
      "source": [
        "#Practical question // #question 3 and 4 are same!!\n",
        "'''\n",
        "Q4. Implement a multi-level inheritance scenario where a class Vehicle has an attribute type. Derive a class Car\n",
        "and further derive a class ElectricCar that adds a battery attribute.\n",
        "\n",
        "'''\n",
        "'''\n",
        "Answere:-4\n",
        "'''\n",
        "class Vehicle:\n",
        "    def __init__(self, vehicle_type):\n",
        "        self.vehicle_type = vehicle_type\n",
        "\n",
        "class Car(Vehicle):\n",
        "    def __init__(self, vehicle_type, brand, model):\n",
        "        super().__init__(vehicle_type)\n",
        "        self.brand = brand\n",
        "        self.model = model\n",
        "\n",
        "class ElectricCar(Car):\n",
        "    def __init__(self, vehicle_type, brand, model, battery_capacity):\n",
        "        super().__init__(vehicle_type, brand, model)\n",
        "        self.battery_capacity = battery_capacity\n",
        "\n",
        "#i'm using `\\n` to print all the details in new line\n",
        "    def display_info(self):\n",
        "        return (f\"Type: {self.vehicle_type},\\nBrand: {self.brand},\\nModel: {self.model}, \"\n",
        "                f\"\\nBattery Capacity: {self.battery_capacity} kWh\")\n",
        "\n",
        "electric_car = ElectricCar(\"Electric\", \"Tesla\", \"Model S\", 100)\n",
        "\n",
        "print(electric_car.display_info())"
      ],
      "metadata": {
        "id": "wckaFLX9DAbK",
        "colab": {
          "base_uri": "https://localhost:8080/"
        },
        "outputId": "a987f4f6-4ad8-4291-c761-e989fb259f56"
      },
      "execution_count": 1,
      "outputs": [
        {
          "output_type": "stream",
          "name": "stdout",
          "text": [
            "Type: Electric,\n",
            "Brand: Tesla,\n",
            "Model: Model S, \n",
            "Battery Capacity: 100 kWh\n"
          ]
        }
      ]
    },
    {
      "cell_type": "code",
      "source": [
        "#Practical question\n",
        "'''\n",
        "Q5. Write a program to demonstrate encapsulation by creating a class BankAccount with private attributes\n",
        "balance and methods to deposit, withdraw, and check balance.\n",
        "\n",
        "'''\n",
        "'''\n",
        "Answere:-5\n",
        "'''\n",
        "class BankAccount:\n",
        "    def __init__(self, initial_balance=0):\n",
        "        self.__balance = initial_balance\n",
        "\n",
        "    def deposit(self, amount):\n",
        "        if amount > 0:\n",
        "            self.__balance += amount\n",
        "            print(f\"Deposited ₹{amount} to your account no. xxxx69 successfully!!. \\n->New balance: ₹{self.__balance}\")\n",
        "        else:\n",
        "            print(\"Invalid deposit amount.\")\n",
        "\n",
        "    def withdraw(self, amount):\n",
        "        if 0 < amount <= self.__balance:\n",
        "            self.__balance -= amount\n",
        "            print(f\"Withdrew ₹{amount} from your account no. xxxx69 successfully!!. \\n->New balance: ₹{self.__balance}\")\n",
        "        else:\n",
        "            print(f\"Oops!! Invalid withdrawal amount or insufficient funds. Your Current balance is ₹{self.__balance}\")\n",
        "\n",
        "    def check_balance(self):\n",
        "        print(f\"-->Current balance: ₹{self.__balance}\")\n",
        "\n",
        "account = BankAccount(1000)\n",
        "account.deposit(500)\n",
        "account.withdraw(200)\n",
        "#i'm writing another withdraw in case of insufficient balance\n",
        "account.withdraw(1500)"
      ],
      "metadata": {
        "id": "qn0mAzSjDAFQ",
        "colab": {
          "base_uri": "https://localhost:8080/"
        },
        "outputId": "44acbb38-6338-445f-8b7f-c1628a57ec4e"
      },
      "execution_count": null,
      "outputs": [
        {
          "output_type": "stream",
          "name": "stdout",
          "text": [
            "Deposited ₹500 to your account no. xxxx69 successfully!!. \n",
            "->New balance: ₹1500\n",
            "Withdrew ₹200 from your account no. xxxx69 successfully!!. \n",
            "->New balance: ₹1300\n",
            "Oops!! Invalid withdrawal amount or insufficient funds. Your Current balance is ₹1300\n"
          ]
        }
      ]
    },
    {
      "cell_type": "code",
      "source": [
        "#Practical question\n",
        "'''\n",
        "Q6. Demonstrate runtime polymorphism using a method play() in a base class Instrument. Derive classes Guitar\n",
        "and Piano that implement their own version of play().\n",
        "\n",
        "'''\n",
        "'''\n",
        "Answere:-6\n",
        "'''\n",
        "class Instrument:\n",
        "    def play(self):\n",
        "        raise NotImplementedError(\"Subclass must implement abstract method\")\n",
        "class Guitar(Instrument):\n",
        "    def play(self):\n",
        "        print(\"Playing the guitar\")\n",
        "\n",
        "class Piano(Instrument):\n",
        "    def play(self):\n",
        "        print(\"Playing the piano\")\n",
        "def play_instrument(instrument: Instrument):\n",
        "    instrument.play()\n",
        "\n",
        "guitar = Guitar()\n",
        "piano = Piano()\n",
        "\n",
        "play_instrument(guitar)\n",
        "play_instrument(piano)"
      ],
      "metadata": {
        "id": "mWrfqcsQC_v0",
        "colab": {
          "base_uri": "https://localhost:8080/"
        },
        "outputId": "8cabfdaf-1679-4962-f774-5e306dfe448a"
      },
      "execution_count": null,
      "outputs": [
        {
          "output_type": "stream",
          "name": "stdout",
          "text": [
            "Playing the guitar\n",
            "Playing the piano\n"
          ]
        }
      ]
    },
    {
      "cell_type": "code",
      "source": [
        "#Practical question\n",
        "'''\n",
        "Q7. Create a class MathOperations with a class method add_numbers() to add two numbers and a static\n",
        "method subtract_numbers() to subtract two numbers.\n",
        "\n",
        "'''\n",
        "'''\n",
        "Answere:-7\n",
        "'''\n",
        "class MathOperations:\n",
        "    @classmethod\n",
        "    def add_numbers(cls, a, b):\n",
        "        return a + b\n",
        "\n",
        "    @staticmethod\n",
        "    def subtract_numbers(a, b):\n",
        "        return a - b\n",
        "\n",
        "# Example usage\n",
        "result_add = MathOperations.add_numbers(25, 5)\n",
        "result_subtract = MathOperations.subtract_numbers(11, 5)\n",
        "\n",
        "print(f\"Addition result: {result_add}\")\n",
        "print(f\"Subtraction result: {result_subtract}\")"
      ],
      "metadata": {
        "id": "RRKsQVH9C_O5",
        "colab": {
          "base_uri": "https://localhost:8080/"
        },
        "outputId": "23bf7981-119a-4ecf-84bd-a9aaadc072e1"
      },
      "execution_count": null,
      "outputs": [
        {
          "output_type": "stream",
          "name": "stdout",
          "text": [
            "Addition result: 30\n",
            "Subtraction result: 6\n"
          ]
        }
      ]
    },
    {
      "cell_type": "code",
      "source": [
        "#Practical question\n",
        "'''\n",
        "Q8. Implement a class Person with a class method to count the total number of persons created.\n",
        "\n",
        "'''\n",
        "'''\n",
        "Answere:-8\n",
        "'''\n",
        "class Person:\n",
        "    count = 0\n",
        "    def __init__(self, name):\n",
        "        self.name = name\n",
        "        Person.count += 1\n",
        "\n",
        "    @classmethod\n",
        "    def total_persons(cls):\n",
        "        return cls.count\n",
        "\n",
        "person1 = Person(\"AVINESH\")\n",
        "person2 = Person(\"ADITYA\")\n",
        "person3 = Person(\"ROHAN\")\n",
        "\n",
        "print(\"Total number of persons:\", Person.total_persons())"
      ],
      "metadata": {
        "id": "7EvoG40JC-kv",
        "colab": {
          "base_uri": "https://localhost:8080/"
        },
        "outputId": "aefa80b9-4181-480c-a4df-39a09aa95c6a"
      },
      "execution_count": null,
      "outputs": [
        {
          "output_type": "stream",
          "name": "stdout",
          "text": [
            "Total number of persons: 3\n"
          ]
        }
      ]
    },
    {
      "cell_type": "code",
      "source": [
        "#Practical question\n",
        "'''\n",
        "Q9. Write a class Fraction with attributes numerator and denominator. Override the str method to display the\n",
        "fraction as \"numerator/denominator\".\n",
        "\n",
        "'''\n",
        "'''\n",
        "Answere:-9\n",
        "'''\n",
        "class Fraction:\n",
        "    def __init__(self, numerator, denominator):\n",
        "        self.numerator = numerator\n",
        "        self.denominator = denominator\n",
        "\n",
        "    def __str__(self):\n",
        "        return f\"{self.numerator}/{self.denominator}\"\n",
        "\n",
        "fraction = Fraction(3, 4)\n",
        "print(fraction)"
      ],
      "metadata": {
        "id": "Ki1DDltXC-Pl",
        "colab": {
          "base_uri": "https://localhost:8080/"
        },
        "outputId": "3bc95796-2fe1-48e2-b864-ec953ddfe30f"
      },
      "execution_count": null,
      "outputs": [
        {
          "output_type": "stream",
          "name": "stdout",
          "text": [
            "3/4\n"
          ]
        }
      ]
    },
    {
      "cell_type": "code",
      "source": [
        "#Practical question\n",
        "'''\n",
        "Q10. Demonstrate operator overloading by creating a class Vector and overriding the add method to add two\n",
        "vectors.\n",
        "\n",
        "'''\n",
        "'''\n",
        "Answere:-10\n",
        "'''\n",
        "class Vector:\n",
        "    def __init__(self, x, y):\n",
        "        self.x = x\n",
        "        self.y = y\n",
        "\n",
        "    def __add__(self, other):\n",
        "        return Vector(self.x + other.x, self.y + other.y)\n",
        "\n",
        "    def __str__(self):\n",
        "        return f\"({self.x}, {self.y})\"\n",
        "\n",
        "v1 = Vector(1, 2)\n",
        "v2 = Vector(3, 4)\n",
        "v3 = v1 + v2\n",
        "print(v3)"
      ],
      "metadata": {
        "id": "GKGMXDo9C96b",
        "colab": {
          "base_uri": "https://localhost:8080/"
        },
        "outputId": "9e98f1f2-8f82-4d0d-812a-3833f46cafb2"
      },
      "execution_count": null,
      "outputs": [
        {
          "output_type": "stream",
          "name": "stdout",
          "text": [
            "(4, 6)\n"
          ]
        }
      ]
    },
    {
      "cell_type": "code",
      "source": [
        "#Practical question\n",
        "'''\n",
        "Q11. Create a class Person with attributes name and age. Add a method greet() that prints \"Hello, my name is\n",
        "{name} and I am {age} years old.\"\n",
        "\n",
        "'''\n",
        "'''\n",
        "Answere:-11\n",
        "'''\n",
        "class Person:\n",
        "    def __init__(self, name, age):\n",
        "        self.name = name\n",
        "        self.age = age\n",
        "\n",
        "    def greet(self):\n",
        "        print(f\"Hello, my name is {self.name} and I am {self.age} years old.\")\n",
        "\n",
        "person = Person(\"AVINESH\", 21)\n",
        "person.greet()\n"
      ],
      "metadata": {
        "id": "DCqBRA7JC9j1",
        "colab": {
          "base_uri": "https://localhost:8080/"
        },
        "outputId": "4033cc93-6d50-4193-c133-e5b5a35add71"
      },
      "execution_count": null,
      "outputs": [
        {
          "output_type": "stream",
          "name": "stdout",
          "text": [
            "Hello, my name is AVINESH and I am 21 years old.\n"
          ]
        }
      ]
    },
    {
      "cell_type": "code",
      "source": [
        "#Practical question\n",
        "'''\n",
        "Q12. Implement a class Student with attributes name and grades. Create a method average_grade() to compute\n",
        "the average of the grades.\n",
        "\n",
        "'''\n",
        "'''\n",
        "Answere:-12\n",
        "'''\n",
        "class Student:\n",
        "    def __init__(self, name, grades):\n",
        "        self.name = name\n",
        "        self.grades = grades\n",
        "\n",
        "    def average_grade(self):\n",
        "        if not self.grades:\n",
        "            return 0\n",
        "        return sum(self.grades) / len(self.grades)\n",
        "\n",
        "student = Student(\"AVINESH\", [85, 90, 78, 92, 88])\n",
        "print(\"The average grade of\",student.name, \"is:\", student.average_grade())"
      ],
      "metadata": {
        "id": "wWbdyubuC9Lt",
        "colab": {
          "base_uri": "https://localhost:8080/"
        },
        "outputId": "6c463cbe-8042-4e69-ac8f-4af554606ca8"
      },
      "execution_count": null,
      "outputs": [
        {
          "output_type": "stream",
          "name": "stdout",
          "text": [
            "The average grade of AVINESH is: 86.6\n"
          ]
        }
      ]
    },
    {
      "cell_type": "code",
      "source": [
        "#Practical question\n",
        "'''\n",
        "Q13. Create a class Rectangle with methods set_dimensions() to set the dimensions and area() to calculate the\n",
        "area.\n",
        "\n",
        "'''\n",
        "'''\n",
        "Answere:-13\n",
        "'''\n",
        "class Rectangle:\n",
        "    def __init__(self):\n",
        "        self.width = 0\n",
        "        self.height = 0\n",
        "\n",
        "    def set_dimensions(self, width, height):\n",
        "        self.width = width\n",
        "        self.height = height\n",
        "\n",
        "    def area(self):\n",
        "        return self.width * self.height\n",
        "\n",
        "# Example usage\n",
        "rectangle = Rectangle()\n",
        "rectangle.set_dimensions(4, 5)\n",
        "print(f\"Area of the rectangle: {rectangle.area()}\")  # Output: Area of the rectangle: 20"
      ],
      "metadata": {
        "id": "KbCkBfaJC81z",
        "colab": {
          "base_uri": "https://localhost:8080/"
        },
        "outputId": "c973913f-d401-4f65-c931-c321f7791587"
      },
      "execution_count": null,
      "outputs": [
        {
          "output_type": "stream",
          "name": "stdout",
          "text": [
            "Area of the rectangle: 20\n"
          ]
        }
      ]
    },
    {
      "cell_type": "code",
      "source": [
        "#Practical question\n",
        "'''\n",
        "Q14. Create a class Employee with a method calculate_salary() that computes the salary based on hours worked\n",
        "and hourly rate. Create a derived class Manager that adds a bonus to the salary.\n",
        "\n",
        "'''\n",
        "'''\n",
        "Answere:-14\n",
        "'''\n",
        "class Employee:\n",
        "    def __init__(self, name, hours_worked, hourly_rate):\n",
        "        self.name = name\n",
        "        self.hours_worked = hours_worked\n",
        "        self.hourly_rate = hourly_rate\n",
        "\n",
        "    def calculate_salary(self):\n",
        "        return self.hours_worked * self.hourly_rate\n",
        "\n",
        "class Manager(Employee):\n",
        "    def __init__(self, name, hours_worked, hourly_rate, bonus):\n",
        "        super().__init__(name, hours_worked, hourly_rate)\n",
        "        self.bonus = bonus\n",
        "\n",
        "    def calculate_salary(self):\n",
        "        return super().calculate_salary() + self.bonus\n",
        "\n",
        "employee = Employee(\"AJAY\", 40, 20)\n",
        "print(\"Employee Salary:\", employee.calculate_salary())\n",
        "print()\n",
        "manager = Manager(\"AVINESH\", 40, 30, 500)\n",
        "print(\"Manager Salary:\", manager.calculate_salary())"
      ],
      "metadata": {
        "id": "5jG9p_oLC8cK",
        "colab": {
          "base_uri": "https://localhost:8080/"
        },
        "outputId": "069d32ef-00d2-4d25-bc15-3ec393b5fbda"
      },
      "execution_count": null,
      "outputs": [
        {
          "output_type": "stream",
          "name": "stdout",
          "text": [
            "Employee Salary: 800\n",
            "\n",
            "Manager Salary: 1700\n"
          ]
        }
      ]
    },
    {
      "cell_type": "code",
      "source": [
        "#Practical question\n",
        "'''\n",
        "Q15. Create a class Product with attributes name, price, and quantity. Implement a method total_price() that\n",
        "calculates the total price of the product.\n",
        "\n",
        "'''\n",
        "'''\n",
        "Answere:-15\n",
        "'''\n",
        "class Product:\n",
        "    def __init__(self, name, price, quantity):\n",
        "        self.name = name\n",
        "        self.price = price\n",
        "        self.quantity = quantity\n",
        "\n",
        "    def total_price(self):\n",
        "        return self.price * self.quantity\n",
        "\n",
        "product = Product(\"Laptop\", 50000, 2)\n",
        "\n",
        "print(product.total_price())"
      ],
      "metadata": {
        "id": "dYWA02XfC8FO",
        "colab": {
          "base_uri": "https://localhost:8080/"
        },
        "outputId": "f81fac52-d277-40df-cfad-1ddde5365ed2"
      },
      "execution_count": null,
      "outputs": [
        {
          "output_type": "stream",
          "name": "stdout",
          "text": [
            "100000\n"
          ]
        }
      ]
    },
    {
      "cell_type": "code",
      "source": [
        "#Practical question\n",
        "'''\n",
        "Q16. Create a class Animal with an abstract method sound(). Create two derived classes Cow and Sheep that\n",
        "implement the sound() method.\n",
        "\n",
        "'''\n",
        "'''\n",
        "Answere:-16\n",
        "'''\n",
        "from abc import ABC, abstractmethod\n",
        "\n",
        "class Animal(ABC):\n",
        "    @abstractmethod\n",
        "    def sound(self):\n",
        "        pass\n",
        "\n",
        "class Cow(Animal):\n",
        "    def sound(self):\n",
        "        return \"Mauhh\"\n",
        "\n",
        "class Sheep(Animal):\n",
        "    def sound(self):\n",
        "        return \"Beahhhh\"\n",
        "\n",
        "# Example usage\n",
        "cow = Cow()\n",
        "sheep = Sheep()\n",
        "\n",
        "print(f\"Cow sound: {cow.sound()}\")\n",
        "print(f\"Sheep sound: {sheep.sound()}\")"
      ],
      "metadata": {
        "id": "vxU5Y3inC7Mn",
        "colab": {
          "base_uri": "https://localhost:8080/"
        },
        "outputId": "300d5641-5c7d-4e0a-8f8c-394741d6095d"
      },
      "execution_count": null,
      "outputs": [
        {
          "output_type": "stream",
          "name": "stdout",
          "text": [
            "Cow sound: Mauhh\n",
            "Sheep sound: Beahhhh\n"
          ]
        }
      ]
    },
    {
      "cell_type": "code",
      "source": [
        "#Practical question\n",
        "'''\n",
        "Q17. Create a class Book with attributes title, author, and year_published. Add a method get_book_info() that\n",
        "returns a formatted string with the book's details.\n",
        "\n",
        "'''\n",
        "'''\n",
        "Answere:-17\n",
        "'''\n",
        "class Book:\n",
        "    def __init__(self, title: str, author: str, year_published: int):\n",
        "        self.title = title\n",
        "        self.author = author\n",
        "        self.year_published = year_published\n",
        "\n",
        "    def get_book_info(self) -> str:\n",
        "        return f\"Title: {self.title}, Author: {self.author}, Year Published: {self.year_published}\"\n",
        "\n",
        "book = Book(\"Don Quixote\", \"Miguel de Cervantes\", 1605)\n",
        "\n",
        "print(book.get_book_info())"
      ],
      "metadata": {
        "id": "O7YMEYY_C6td",
        "colab": {
          "base_uri": "https://localhost:8080/"
        },
        "outputId": "eb66b92b-4f1f-4313-b9aa-5fd6fb652475"
      },
      "execution_count": null,
      "outputs": [
        {
          "output_type": "stream",
          "name": "stdout",
          "text": [
            "Title: Don Quixote, Author: Miguel de Cervantes, Year Published: 1605\n"
          ]
        }
      ]
    },
    {
      "cell_type": "code",
      "source": [
        "#Practical question\n",
        "'''\n",
        "Q18. Create a class House with attributes address and price. Create a derived class Mansion that adds an\n",
        "attribute number_of_rooms.\n",
        "\n",
        "'''\n",
        "'''\n",
        "Answere:-18\n",
        "'''\n",
        "class House:\n",
        "    def __init__(self, address, price):\n",
        "        self.address = address\n",
        "        self.price = price\n",
        "\n",
        "class Mansion(House):\n",
        "    def __init__(self, address, price, number_of_rooms):\n",
        "        super().__init__(address, price)\n",
        "        self.number_of_rooms = number_of_rooms\n",
        "\n",
        "# Example usage\n",
        "house = House(\"Gomti Nagar\", 10000)\n",
        "mansion = Mansion(\"Hazratganj\", 50000, 10)\n",
        "\n",
        "print(f\"House address: {house.address}, price: ₹{house.price}\")\n",
        "print(f\"Mansion address: {mansion.address}, price: ₹{mansion.price}, number of rooms: {mansion.number_of_rooms}\")"
      ],
      "metadata": {
        "id": "ThTtADmSDfy2",
        "colab": {
          "base_uri": "https://localhost:8080/"
        },
        "outputId": "6a6b74e5-6ed9-4518-d770-bfc4c81abfe4"
      },
      "execution_count": null,
      "outputs": [
        {
          "output_type": "stream",
          "name": "stdout",
          "text": [
            "House address: Gomti Nagar, price: ₹10000\n",
            "Mansion address: Hazratganj, price: ₹50000, number of rooms: 10\n"
          ]
        }
      ]
    }
  ]
}