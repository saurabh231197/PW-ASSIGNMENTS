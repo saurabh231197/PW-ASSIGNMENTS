{
  "nbformat": 4,
  "nbformat_minor": 0,
  "metadata": {
    "colab": {
      "provenance": []
    },
    "kernelspec": {
      "name": "python3",
      "display_name": "Python 3"
    },
    "language_info": {
      "name": "python"
    }
  },
  "cells": [
    {
      "cell_type": "markdown",
      "source": [
        "# Statistics Advance Part 1"
      ],
      "metadata": {
        "id": "4lWKZpYOb2ZT"
      }
    },
    {
      "cell_type": "markdown",
      "source": [
        "-----------------------------------------------------------------\n",
        "Q1. What is a random variable in probability theory?\n",
        "- A random variable is a variable whose possible values are numerical outcomes of a random phenomenon. There are two types of random variables: discrete and continuous.\n",
        "- **Example:** The number of heads in 10 coin flips is a discrete random variable.\n",
        "- **Explanation:** In this example, the random variable can take on any integer value from 0 to 10, depending on the number of heads observed in 10 coin flips.\n",
        "-----------------------------------------------------------------\n",
        "Q2. What are the types of random variables?\n",
        "- There are two types of random variables: discrete and continuous.\n",
        "  - Discrete random variables take on a countable number of distinct values.\n",
        "  - Continuous random variables take on an infinite number of possible values.\n",
        "- **Example:** The number of students in a class is a discrete random variable, while the height of students is a continuous random variable.\n",
        "- **Explanation:** The number of students can only be whole numbers (e.g., 20, 21), while height can take on any value within a range (e.g., 170.5 cm, 171.2 cm).\n",
        "-----------------------------------------------------------------\n",
        "Q3. What is the difference between discrete and continuous distributions?\n",
        "- Discrete distributions describe the probability of outcomes of a discrete random variable, while continuous distributions describe the probability of outcomes of a continuous random variable.\n",
        "- **Example:** The binomial distribution is a discrete distribution, while the normal distribution is a continuous distribution.\n",
        "- **Explanation:** The binomial distribution models the number of successes in a fixed number of trials, while the normal distribution models continuous data that is symmetrically distributed around the mean.\n",
        "-----------------------------------------------------------------\n",
        "Q4. What is the binomial distribution, and how is it used in probability?\n",
        "- The binomial distribution describes the number of successes in a fixed number of independent Bernoulli trials. It is used to model situations where there are a fixed number of trials, each with the same probability of success.\n",
        "- **Example:** The number of heads in 10 coin flips follows a binomial distribution.\n",
        "- **Explanation:** The binomial distribution calculates the probability of getting a certain number of successes (e.g., heads) in a fixed number of trials (e.g., 10 coin flips).\n",
        "-----------------------------------------------------------------\n",
        "Q5. What is the standard normal distribution, and why is it important?\n",
        "- The standard normal distribution is a normal distribution with a mean of 0 and a standard deviation of 1. It is important because it allows for the standardization of normal distributions, making it easier to calculate probabilities and compare different distributions.\n",
        "- **Example:** Converting a normal distribution to a standard normal distribution using z-scores.\n",
        "- **Explanation:** Standardizing data using z-scores allows for comparison across different normal distributions by converting them to a common scale.\n",
        "-----------------------------------------------------------------\n",
        "Q6. What is the Central Limit Theorem (CLT), and why is it critical in statistics?\n",
        "- The Central Limit Theorem (CLT) states that the sampling distribution of the sample mean approaches a normal distribution as the sample size increases, regardless of the population distribution. It is critical because it allows for the use of normal distribution techniques in hypothesis testing and confidence intervals.\n",
        "- **Example:** The average height of a large sample of students will be approximately normally distributed, even if the population distribution is not normal.\n",
        "- **Explanation:** The CLT enables statisticians to make inferences about population parameters using sample data, even when the population distribution is unknown.\n",
        "-----------------------------------------------------------------\n",
        "Q7. What is the significance of confidence intervals in statistical analysis?\n",
        "- Confidence intervals provide a range of values within which the true population parameter is expected to lie with a certain level of confidence. They give an indication of the precision and reliability of the estimate.\n",
        "- **Example:** A 95% confidence interval for the mean height of students might be 170 cm to 180 cm.\n",
        "- **Explanation:** Confidence intervals account for sampling variability and provide a range that is likely to contain the true population parameter.\n",
        "-----------------------------------------------------------------\n",
        "Q8. What is the concept of expected value in a probability distribution?\n",
        "- The expected value is the long-term average or mean value of a random variable. It is calculated by summing the products of each possible value and its probability.\n",
        "`Formula: E(X) = Σ [x * P(x)]`\n",
        "- **Example:** The expected value of rolling a fair six-sided die is `(1+2+3+4+5+6)/6 = 3.5`.\n",
        "- **Explanation:** The expected value represents the average outcome if the random experiment is repeated many times.\n",
        "-----------------------------------------------------------------\n"
      ],
      "metadata": {
        "id": "etavA7n6b4VO"
      }
    },
    {
      "cell_type": "markdown",
      "source": [
        "# Practical Questions"
      ],
      "metadata": {
        "id": "7aCJbQeVcW0f"
      }
    },
    {
      "cell_type": "code",
      "source": [
        "\"\"\" Q9. Write a Python program to generate 1000 random numbers from a normal\n",
        "distribution with mean = 50 and standard deviation = 5. Compute its mean and standard\n",
        "deviation using NumPy, and draw a histogram to visualize the distribution. \"\"\"\n",
        "\n",
        "#ANS\n",
        "import numpy as np\n",
        "import matplotlib.pyplot as plt\n",
        "\n",
        "# 🎲 Generate 1000 random numbers from a normal distribution\n",
        "mean = 50\n",
        "std_dev = 5\n",
        "data = np.random.normal(loc=mean, scale=std_dev, size=1000)\n",
        "\n",
        "# 📊 Compute mean and standard deviation\n",
        "computed_mean = np.mean(data)\n",
        "computed_std = np.std(data)\n",
        "\n",
        "print(f\"Computed Mean: {computed_mean:.2f}\")\n",
        "print(f\"Computed Standard Deviation: {computed_std:.2f}\")\n",
        "\n",
        "# 📉 Draw histogram\n",
        "plt.style.use('seaborn-v0_8-darkgrid')  # Optional: for a cleaner look\n",
        "plt.hist(data, bins=30, color='skyblue', edgecolor='black')\n",
        "plt.title('Histogram of Normally Distributed Data')\n",
        "plt.xlabel('Value')\n",
        "plt.ylabel('Frequency')\n",
        "plt.axvline(computed_mean, color='red', linestyle='dashed', linewidth=1.5, label=f'Mean = {computed_mean:.2f}')\n",
        "plt.legend()\n",
        "plt.show()"
      ],
      "metadata": {
        "colab": {
          "base_uri": "https://localhost:8080/",
          "height": 500
        },
        "id": "0O5Q7MX6JNga",
        "outputId": "03831f1c-b27e-4c3d-e35c-876c8613bd48"
      },
      "execution_count": 3,
      "outputs": [
        {
          "output_type": "stream",
          "name": "stdout",
          "text": [
            "Computed Mean: 49.91\n",
            "Computed Standard Deviation: 5.10\n"
          ]
        },
        {
          "output_type": "display_data",
          "data": {
            "text/plain": [
              "<Figure size 640x480 with 1 Axes>"
            ],
            "image/png": "[encoded data removed]"
          },
          "metadata": {}
        }
      ]
    },
    {
      "cell_type": "code",
      "source": [
        "\"\"\" Q10. You are working as a data analyst for a retail company. The company has\n",
        "collected daily sales data for 2 years and wants you to identify the overall sales trend.\n",
        "daily_sales = [220, 245, 210, 265, 230, 250, 260, 275, 240, 255,\n",
        "235, 260, 245, 250, 225, 270, 265, 255, 250, 260]\n",
        "● Explain how you would apply the Central Limit Theorem to estimate the average sales\n",
        "with a 95% confidence interval.\n",
        "● Write the Python code to compute the mean sales and its confidence interval \"\"\"\n",
        "\n",
        "#ANS\n",
        "\"\"\" To estimate the average daily sales using the Central Limit Theorem (CLT),\n",
        "I would treat the provided sample of 20 daily sales figures as a representative subset of the larger two-year dataset.\n",
        "The CLT states that if we take repeated random samples from a population,\n",
        "the distribution of the sample means will tend toward a normal distribution—\n",
        "even if the original data is not normally distributed—provided the sample size is sufficiently large.\n",
        " Although this sample is relatively small, we can still apply the CLT cautiously by using the t-distribution to account for additional uncertainty.\n",
        " First, I would calculate the sample mean, which gives an estimate of the average daily sales.\n",
        " Then, I’d compute the standard error of the mean (SEM), which reflects how much the sample mean is expected to vary from the true population mean.\n",
        " Using the t-distribution with 19 degrees of freedom (n−1),\n",
        " I’d construct a 95% confidence interval around the sample mean. This interval provides a statistically grounded range\n",
        " in which we can be 95% confident the true average daily sales lies—helping the company understand its overall sales performance and plan more effectively. \"\"\"\n",
        "\n",
        "\n",
        "import numpy as np\n",
        "import scipy.stats as stats\n",
        "\n",
        "# Daily sales data\n",
        "daily_sales = [220, 245, 210, 265, 230, 250, 260, 275, 240, 255,\n",
        "               235, 260, 245, 250, 225, 270, 265, 255, 250, 260]\n",
        "\n",
        "# Convert to numpy array\n",
        "sales_array = np.array(daily_sales)\n",
        "\n",
        "# Sample mean and standard error\n",
        "mean_sales = np.mean(sales_array)\n",
        "std_error = stats.sem(sales_array)\n",
        "\n",
        "# 95% confidence interval using t-distribution\n",
        "confidence_interval = stats.t.interval(\n",
        "    0.95,  # confidence level\n",
        "    df=len(sales_array)-1,\n",
        "    loc=mean_sales,\n",
        "    scale=std_error\n",
        ")\n",
        "\n",
        "print(f\"Mean daily sales: {mean_sales:.2f}\")\n",
        "print(f\"95% Confidence Interval for mean sales: ({confidence_interval[0]:.2f}, {confidence_interval[1]:.2f})\")\n"
      ],
      "metadata": {
        "colab": {
          "base_uri": "https://localhost:8080/"
        },
        "id": "Dv_3A193JXly",
        "outputId": "88f42d4c-3fdc-4d17-e19e-a44bcd2c7009"
      },
      "execution_count": 4,
      "outputs": [
        {
          "output_type": "stream",
          "name": "stdout",
          "text": [
            "Mean daily sales: 248.25\n",
            "95% Confidence Interval for mean sales: (240.17, 256.33)\n"
          ]
        }
      ]
    }
  ]
}