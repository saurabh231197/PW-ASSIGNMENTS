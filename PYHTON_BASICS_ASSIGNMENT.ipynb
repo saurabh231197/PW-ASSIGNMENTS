{
  "nbformat": 4,
  "nbformat_minor": 0,
  "metadata": {
    "colab": {
      "provenance": []
    },
    "kernelspec": {
      "name": "python3",
      "display_name": "Python 3"
    },
    "language_info": {
      "name": "python"
    }
  },
  "cells": [
    {
      "cell_type": "markdown",
      "source": [
        "Q1. What is Python, and why is it popular?\n",
        "\n",
        "ANS - Python is a high level, object oriented programming language and has a wide variety of applications.\n",
        "  It is popular because it is user friendly and easily accessible and very simple to code as compared to other programming languages.\n",
        "\n",
        "Q2.  What is an interpreter in Python?\n",
        "\n",
        "ANS -  An interpretor is a program that executes Python code directly without needing to compile it into machine code and It reads the source code line by line translates each line into instruction for the machine to comprehend.\n",
        "\n",
        "Q3. What are pre-defined keywords in Python?\n",
        "\n",
        "ANS - Pre-defined keywords in Python are reserved words which are case sensitive and  that have special meanings and functions within the language e.g. if, else, ture, false etc.\n",
        "\n",
        "Q4.  Can keywords be used as variable names?\n",
        "\n",
        "ANS - No, it will result in syntax error.\n",
        "\n",
        "Q5. What is mutability in Python?\n",
        "\n",
        "ANS - Mutability refers to ability of an object to be  modified after being created which cna be end number of times e.g. list\n",
        "\n",
        "Q6.  Why are lists mutable, but tuples are immutable?\n",
        "\n",
        "ANS - We call lists mutable because it can be changed after being created while items in  tuples cannot be modified after being created.\n",
        "\n",
        "Q7. What is the difference between “==” and “is” operators in Python?\n",
        "\n",
        "ANS - \"==\" is an equality operator which is used to compare the equalit of the objects, whereas \"is\" is an identity operator which checks if two variables point to the same object in memory.\n",
        "\n",
        "Q8. What are logical operators in Python?\n",
        "\n",
        "ANS - Logical operators in python are used to combine conditional statements and evaluate Boolean values (True or False) i.e and, or, not\n",
        "\n",
        "Q9.  What is type casting in Python?\n",
        "\n",
        "ANS - It refers to explicit conversion of of a variable from one data type into another also known as type conversion.\n",
        "\n",
        "Q10. What is the difference between implicit and explicit type casting?\n",
        "\n",
        "ANS -  Implicit type casting happens automatically when Python needs to perform operations involving different data types whereas Explicit type casting is done manually by the programmer.\n",
        "\n",
        "Q11.What is the purpose of conditional statements in Python?\n",
        "\n",
        "ANS - Conditional statements in Python are used to execute different blocks of code based on certain specific coditions defined by the programmer. e.g if, elif, else.\n",
        "\n",
        "Q12. How does the elif statement work?\n",
        "\n",
        "ANS - Elif stands for 'else if' used together with 'if' statement.\n",
        "The program fire=st checks the \"if\" condition and when the condition under if statement turns out to be false then the program moves to \"elif\" statement and checks the condition is true or not and if the elif condition turns out to be false it goes to the \"else\" condition and executes the result\n",
        "\n",
        "Q13. What is the difference between for and while loops?\n",
        "\n",
        "ANS - For loops are used when it is known that how many times the program is to iterate over a sequence\n",
        "whereas\n",
        "While loops are used when you don't know exactly how many times you need to iterate the sequence\n",
        "\n",
        "Q14. Describe a scenario where a while loop is more suitable than a for loop.\n",
        "\n",
        "ANS - A while loop is more suitable than a for loop in scenarios where the number of iterations is not known beforehand and depends on a condition that changes during the loop's execution.\n",
        "\n"
      ],
      "metadata": {
        "id": "NL8HkzgmYxay"
      }
    },
    {
      "cell_type": "code",
      "source": [
        "# Q1 - Write a Python program to print \"Hello, World!\n",
        "\n",
        "print(\"Hello, World!\")\n"
      ],
      "metadata": {
        "colab": {
          "base_uri": "https://localhost:8080/"
        },
        "id": "plJjUwgbipdz",
        "outputId": "b945baeb-7756-45a5-9dd9-3648b95f6b3a"
      },
      "execution_count": 1,
      "outputs": [
        {
          "output_type": "stream",
          "name": "stdout",
          "text": [
            "Hello, World!\n"
          ]
        }
      ]
    },
    {
      "cell_type": "code",
      "source": [
        "# Q2 - Write a Python program that displays your name and age.\n",
        "name = input(\"Enter your name: \")\n",
        "age = input(\"Enter your age: \")\n",
        "print(name)\n",
        "print(age)"
      ],
      "metadata": {
        "colab": {
          "base_uri": "https://localhost:8080/"
        },
        "id": "SWvONJ1Yi3HI",
        "outputId": "203940e0-5405-4f24-edfa-30833709c2aa"
      },
      "execution_count": 2,
      "outputs": [
        {
          "output_type": "stream",
          "name": "stdout",
          "text": [
            "Enter your name: SAURABH GUPTA\n",
            "Enter your age: 28\n",
            "SAURABH GUPTA\n",
            "28\n"
          ]
        }
      ]
    },
    {
      "cell_type": "code",
      "source": [
        "# Q3 -  Write code to print all the pre-defined keywords in Python using the keyword library\n",
        "import keyword\n",
        "print(keyword.kwlist)"
      ],
      "metadata": {
        "colab": {
          "base_uri": "https://localhost:8080/"
        },
        "id": "b85Hawo2jN1p",
        "outputId": "32287ae2-c180-4d80-ed6f-3762cc9a98ab"
      },
      "execution_count": 3,
      "outputs": [
        {
          "output_type": "stream",
          "name": "stdout",
          "text": [
            "['False', 'None', 'True', 'and', 'as', 'assert', 'async', 'await', 'break', 'class', 'continue', 'def', 'del', 'elif', 'else', 'except', 'finally', 'for', 'from', 'global', 'if', 'import', 'in', 'is', 'lambda', 'nonlocal', 'not', 'or', 'pass', 'raise', 'return', 'try', 'while', 'with', 'yield']\n"
          ]
        }
      ]
    },
    {
      "cell_type": "code",
      "source": [
        "# Q4 -  Write a program that checks if a given word is a Python keyword.\n",
        "import keyword\n",
        "word = input(\"Enter a word: \")\n",
        "if keyword.iskeyword(word):\n",
        "    print(\"This word is a Python keyword\")\n",
        "else:\n",
        "    print(\"This word is not a Python keyword\")"
      ],
      "metadata": {
        "colab": {
          "base_uri": "https://localhost:8080/"
        },
        "id": "dBMEyESejf8C",
        "outputId": "d400b647-1f05-4b31-c988-a213adf4fc97"
      },
      "execution_count": 6,
      "outputs": [
        {
          "output_type": "stream",
          "name": "stdout",
          "text": [
            "Enter a word: saurabh\n",
            "This word is not a Python keyword\n"
          ]
        }
      ]
    },
    {
      "cell_type": "code",
      "source": [
        "# Q5 - Create a list and tuple in Python, and demonstrate how attempting to change an element works differently\n",
        "#for each\n",
        "# Creating a list and a tuple\n",
        "my_list = [10, 20, 30]\n",
        "my_tuple = (10, 20, 30)\n",
        "\n",
        "# Trying to change an element in the list\n",
        "my_list[1] = 99  # This works!\n",
        "print(\"Updated list:\", my_list)\n",
        "\n",
        "# Trying to change an element in the tuple\n",
        "my_tuple[1] = 99  # This will raise a TypeError!\n"
      ],
      "metadata": {
        "colab": {
          "base_uri": "https://localhost:8080/",
          "height": 193
        },
        "id": "busnHAh0kBms",
        "outputId": "f6b4d4bb-af63-459d-a1b4-e8d2e6e2dfef"
      },
      "execution_count": 26,
      "outputs": [
        {
          "output_type": "stream",
          "name": "stdout",
          "text": [
            "Updated list: [10, 99, 30]\n"
          ]
        },
        {
          "output_type": "error",
          "ename": "TypeError",
          "evalue": "'tuple' object does not support item assignment",
          "traceback": [
            "\u001b[0;31m---------------------------------------------------------------------------\u001b[0m",
            "\u001b[0;31mTypeError\u001b[0m                                 Traceback (most recent call last)",
            "\u001b[0;32m/tmp/ipython-input-26-2561100579.py\u001b[0m in \u001b[0;36m<cell line: 0>\u001b[0;34m()\u001b[0m\n\u001b[1;32m     10\u001b[0m \u001b[0;34m\u001b[0m\u001b[0m\n\u001b[1;32m     11\u001b[0m \u001b[0;31m# Trying to change an element in the tuple\u001b[0m\u001b[0;34m\u001b[0m\u001b[0;34m\u001b[0m\u001b[0m\n\u001b[0;32m---> 12\u001b[0;31m \u001b[0mmy_tuple\u001b[0m\u001b[0;34m[\u001b[0m\u001b[0;36m1\u001b[0m\u001b[0;34m]\u001b[0m \u001b[0;34m=\u001b[0m \u001b[0;36m99\u001b[0m  \u001b[0;31m# This will raise a TypeError!\u001b[0m\u001b[0;34m\u001b[0m\u001b[0;34m\u001b[0m\u001b[0m\n\u001b[0m",
            "\u001b[0;31mTypeError\u001b[0m: 'tuple' object does not support item assignment"
          ]
        }
      ]
    },
    {
      "cell_type": "code",
      "source": [
        "# Q6 - Write a function to demonstrate the behavior of mutable and immutable arguments.\n",
        "def modify_arguments(a, b):\n",
        "    print(\"Before modification:\")\n",
        "    print(\"a =\", a)\n",
        "    print(\"b =\", b)\n",
        "\n",
        "    # Attempting to modify both\n",
        "    a=a+1         # Immutable (int) – creates a new object\n",
        "    b.append(4)    # Mutable (list) – modifies the original object\n",
        "\n",
        "    print(\"After modification:\")\n",
        "    print(\"a =\", a)\n",
        "    print(\"b =\", b)\n",
        "\n",
        "# Immutable argument (int)\n",
        "x = 10\n",
        "# Mutable argument (list)\n",
        "y = [1, 2, 3]\n",
        "\n",
        "modify_arguments(x, y)\n",
        "\n",
        "print(\"Outside function:\")\n",
        "print(\"x =\", x)  # x remains unchanged\n",
        "print(\"y =\", y)  # y is changed"
      ],
      "metadata": {
        "colab": {
          "base_uri": "https://localhost:8080/"
        },
        "id": "RPoLoqnvkzNo",
        "outputId": "29219105-2c4a-4faa-97b7-3a244c6bda69"
      },
      "execution_count": 27,
      "outputs": [
        {
          "output_type": "stream",
          "name": "stdout",
          "text": [
            "Before modification:\n",
            "a = 10\n",
            "b = [1, 2, 3]\n",
            "After modification:\n",
            "a = 11\n",
            "b = [1, 2, 3, 4]\n",
            "Outside function:\n",
            "x = 10\n",
            "y = [1, 2, 3, 4]\n"
          ]
        }
      ]
    },
    {
      "cell_type": "code",
      "source": [
        "# Q7 -  Write a program that performs basic arithmetic operations on two user-input numbers\n",
        "# Taking input from the user\n",
        "num1 = float(input(\"Enter the first number: \"))\n",
        "num2 = float(input(\"Enter the second number: \"))\n",
        "\n",
        "# Performing basic arithmetic operations\n",
        "print(\"Addition:\", num1 + num2)\n",
        "print(\"Subtraction:\", num1 - num2)\n",
        "print(\"Multiplication:\", num1 * num2)\n",
        "print(\"Division:\", num1 / num2)"
      ],
      "metadata": {
        "colab": {
          "base_uri": "https://localhost:8080/"
        },
        "id": "60wtiIbwlt2Y",
        "outputId": "07b6deea-3a62-4e0b-85ef-b751ac8bcb26"
      },
      "execution_count": 29,
      "outputs": [
        {
          "output_type": "stream",
          "name": "stdout",
          "text": [
            "Enter the first number: 24\n",
            "Enter the second number: 8\n",
            "Addition: 32.0\n",
            "Subtraction: 16.0\n",
            "Multiplication: 192.0\n",
            "Division: 3.0\n"
          ]
        }
      ]
    },
    {
      "cell_type": "code",
      "source": [
        "# Q8 - Write a program to demonstrate the use of logical operators.\n",
        "# Taking boolean input from the user\n",
        "bool1 = input(\"Enter first boolean (True/False): \")\n",
        "bool2 = input(\"Enter second boolean (True/False): \")\n",
        "\n",
        "# Demonstrating logical operators\n",
        "print(\"bool1 and bool2:\", bool1 and bool2)\n",
        "print(\"bool1 or bool2:\", bool1 or bool2)\n",
        "print(\"not bool1:\", not bool1)"
      ],
      "metadata": {
        "colab": {
          "base_uri": "https://localhost:8080/"
        },
        "id": "3g5wYk_Xpwro",
        "outputId": "b5d073ea-cfb1-4d0d-cf7e-490366e5398d"
      },
      "execution_count": 32,
      "outputs": [
        {
          "output_type": "stream",
          "name": "stdout",
          "text": [
            "Enter first boolean (True/False): true\n",
            "Enter second boolean (True/False): false\n",
            "bool1 and bool2: false\n",
            "bool1 or bool2: true\n",
            "not bool1: False\n"
          ]
        }
      ]
    },
    {
      "cell_type": "code",
      "source": [
        "# Q9 -  Write a Python program to convert user input from string to integer, float, and boolean types.\n",
        "\n",
        "# Get input from the user\n",
        "a = input(\"Enter a value: \")\n",
        "\n",
        "# Convert to integer\n",
        "try:\n",
        "    int_value = int(a)\n",
        "    print(f\"Integer: {int_value}\")\n",
        "except ValueError:\n",
        "    print(\"Cannot convert input to integer.\")\n",
        "\n",
        "# Convert to float\n",
        "try:\n",
        "    float_value = float(a)\n",
        "    print(f\"Float: {float_value}\")\n",
        "except ValueError:\n",
        "    print(\"Cannot convert input to float.\")\n",
        "\n",
        "# Convert to boolean\n",
        "bool_value = bool(a)\n",
        "print(f\"Boolean: {bool_value}\")"
      ],
      "metadata": {
        "colab": {
          "base_uri": "https://localhost:8080/"
        },
        "id": "iYjCx4wDqUrf",
        "outputId": "9bfcf599-a3b4-48c5-9e6d-8f7f3b827abd"
      },
      "execution_count": 35,
      "outputs": [
        {
          "output_type": "stream",
          "name": "stdout",
          "text": [
            "Enter a value: 55\n",
            "Integer: 55\n",
            "Float: 55.0\n",
            "Boolean: True\n"
          ]
        }
      ]
    },
    {
      "cell_type": "code",
      "source": [
        "# Q10 - . Write code to demonstrate type casting with list elements\n",
        "my_list=[\"1\",\"2\",\"3\",\"4\"]\n",
        "print(\"my list is: \", my_list)\n",
        "\n",
        "int_list=[int(x) for x in my_list]\n",
        "# list comprehension\n",
        "print(\"new list is: \", int_list)\n",
        "\n",
        "for x in int_list:\n",
        "  print(f\"value:{x}, type:{type(x)}\")\n",
        "  float_list=[float(x) for x in int_list]\n",
        "  print(\"2nd new list is : \", float_list)\n",
        "  for x in float_list:\n",
        "    print(f\"value:{x}, type:{type(x)}\")\n",
        "\n"
      ],
      "metadata": {
        "colab": {
          "base_uri": "https://localhost:8080/"
        },
        "id": "6m0AFowsq2Gv",
        "outputId": "00fe5f8c-8a5d-4492-e332-4de57a783d77"
      },
      "execution_count": 39,
      "outputs": [
        {
          "output_type": "stream",
          "name": "stdout",
          "text": [
            "my list is:  ['1', '2', '3', '4']\n",
            "new list is:  [1, 2, 3, 4]\n",
            "value:1, type:<class 'int'>\n",
            "2nd new list is :  [1.0, 2.0, 3.0, 4.0]\n",
            "value:1.0, type:<class 'float'>\n",
            "value:2.0, type:<class 'float'>\n",
            "value:3.0, type:<class 'float'>\n",
            "value:4.0, type:<class 'float'>\n",
            "value:2, type:<class 'int'>\n",
            "2nd new list is :  [1.0, 2.0, 3.0, 4.0]\n",
            "value:1.0, type:<class 'float'>\n",
            "value:2.0, type:<class 'float'>\n",
            "value:3.0, type:<class 'float'>\n",
            "value:4.0, type:<class 'float'>\n",
            "value:3, type:<class 'int'>\n",
            "2nd new list is :  [1.0, 2.0, 3.0, 4.0]\n",
            "value:1.0, type:<class 'float'>\n",
            "value:2.0, type:<class 'float'>\n",
            "value:3.0, type:<class 'float'>\n",
            "value:4.0, type:<class 'float'>\n",
            "value:4, type:<class 'int'>\n",
            "2nd new list is :  [1.0, 2.0, 3.0, 4.0]\n",
            "value:1.0, type:<class 'float'>\n",
            "value:2.0, type:<class 'float'>\n",
            "value:3.0, type:<class 'float'>\n",
            "value:4.0, type:<class 'float'>\n"
          ]
        }
      ]
    },
    {
      "cell_type": "code",
      "source": [
        "# Q11 -  Write a program that checks if a number is positive, negative, or zero\n",
        "# Ask the user to input a number\n",
        "number = float(input(\"Enter a number: \"))\n",
        "\n",
        "# Check if the number is positive, negative, or zero\n",
        "if number > 0:\n",
        "    print(\"The number is positive.\")\n",
        "elif number < 0:\n",
        "    print(\"The number is negative.\")\n",
        "else:\n",
        "    print(\"The number is zero.\")"
      ],
      "metadata": {
        "colab": {
          "base_uri": "https://localhost:8080/"
        },
        "id": "9gPk5G7rsjAd",
        "outputId": "6be9da75-43de-4ee7-99db-68f3a110ac39"
      },
      "execution_count": 41,
      "outputs": [
        {
          "output_type": "stream",
          "name": "stdout",
          "text": [
            "Enter a number: -333\n",
            "The number is negative.\n"
          ]
        }
      ]
    },
    {
      "cell_type": "code",
      "source": [
        "# Q12 -  Write a for loop to print numbers from 1 to 10.\n",
        "for S in range(1,11):\n",
        "  print(S)"
      ],
      "metadata": {
        "colab": {
          "base_uri": "https://localhost:8080/"
        },
        "id": "KB9lo0-rsvuV",
        "outputId": "754c7526-4f07-47ec-e647-b70e91c59fa6"
      },
      "execution_count": 43,
      "outputs": [
        {
          "output_type": "stream",
          "name": "stdout",
          "text": [
            "1\n",
            "2\n",
            "3\n",
            "4\n",
            "5\n",
            "6\n",
            "7\n",
            "8\n",
            "9\n",
            "10\n"
          ]
        }
      ]
    },
    {
      "cell_type": "code",
      "source": [
        "# Q13 -  Write a Python program to find the sum of all even numbers between 1 and 50\n",
        "total = 0\n",
        "\n",
        "# Loop through numbers from 1 to 50\n",
        "for num in range(1, 51):\n",
        "    if num % 2 == 0:\n",
        "        total += num\n",
        "print(\"Sum of all even numbers between 1 and 50 is:\", total)"
      ],
      "metadata": {
        "colab": {
          "base_uri": "https://localhost:8080/"
        },
        "id": "b-qmue6Xs4_l",
        "outputId": "d210c236-3716-4b71-8017-0d35eaea8c1b"
      },
      "execution_count": 45,
      "outputs": [
        {
          "output_type": "stream",
          "name": "stdout",
          "text": [
            "Sum of all even numbers between 1 and 50 is: 650\n"
          ]
        }
      ]
    },
    {
      "cell_type": "code",
      "source": [
        "# Q14 -  Write a program to reverse a string using a while loop\n",
        "original = input(\"Enter a string: \")\n",
        "reversed_str = \"\"\n",
        "index = len(original) - 1\n",
        "while index >= 0:\n",
        "    reversed_str += original[index]\n",
        "    index -= 1\n",
        "\n",
        "# Print the reversed string\n",
        "print(\"Reversed string:\", reversed_str)"
      ],
      "metadata": {
        "colab": {
          "base_uri": "https://localhost:8080/"
        },
        "id": "Wa0gy527tc7t",
        "outputId": "6819250f-625a-49cf-c770-b89878a82586"
      },
      "execution_count": 47,
      "outputs": [
        {
          "output_type": "stream",
          "name": "stdout",
          "text": [
            "Enter a string: Saxasdads\n",
            "Reversed string: sdadsaxaS\n"
          ]
        }
      ]
    },
    {
      "cell_type": "code",
      "source": [
        "# Q15 - Write a Python program to calculate the factorial of a number provided by the user using a while loop\n",
        "num = int(input(\"Enter a non-negative integer: \"))\n",
        "\n",
        "# Initialize variables\n",
        "factorial = 1\n",
        "i = 1\n",
        "\n",
        "# Check for valid input\n",
        "if num < 0:\n",
        "    print(\"Factorial is not defined for negative numbers.\")\n",
        "else:\n",
        "    while i <= num:\n",
        "        factorial *= i\n",
        "        i += 1\n",
        "    print(f\"The factorial of {num} is {factorial}\")"
      ],
      "metadata": {
        "colab": {
          "base_uri": "https://localhost:8080/"
        },
        "id": "_CJ_iInzt1OX",
        "outputId": "efc3803d-2b21-4735-fe9c-b440f57001e0"
      },
      "execution_count": 48,
      "outputs": [
        {
          "output_type": "stream",
          "name": "stdout",
          "text": [
            "Enter a non-negative integer: 3\n",
            "The factorial of 3 is 6\n"
          ]
        }
      ]
    }
  ]
}