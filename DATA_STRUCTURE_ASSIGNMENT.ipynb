{
  "nbformat": 4,
  "nbformat_minor": 0,
  "metadata": {
    "colab": {
      "provenance": []
    },
    "kernelspec": {
      "name": "python3",
      "display_name": "Python 3"
    },
    "language_info": {
      "name": "python"
    }
  },
  "cells": [
    {
      "cell_type": "code",
      "execution_count": null,
      "metadata": {
        "id": "K0zsWyjsGVTw"
      },
      "outputs": [],
      "source": []
    },
    {
      "cell_type": "markdown",
      "source": [
        "Theory questions assignment 2\n",
        "\n",
        "1 -what are data structures, and why are they important?\n",
        "\n",
        "ANS=A data structure is a specialized way of organizing, managing, and storing data in a computer so it can be used efficiently. They define the relationship between the data and the operations that can be performed on it.\n",
        "Data structures are crucial in computer science and programming for several reasons: A. Faster Performance=They make it easier and quicker to work with data. B.Better Organization=They help keep data neat and easy to use. C.Solving Real Problems=They are used in real-world applications like apps, games, and websites. D.Efficient Memory Use=They help save computer memory. E.Foundation for Algorithms=Most algorithms use data structures to work properly.\n",
        "\n",
        "2- Explain the difference between mutable and immutable data types with examples.\n",
        "\n",
        "ANS= mutable can be changed after creation. example= list,dict,set. my_list=[1,2,3] my.list[0]=10 This is allowed.\n",
        "immutable cannot be changed after creation. example= string , tuple. my_str=\"hello\" my_str[0]= \"H\" This will give an error.\n",
        "\n",
        "3-What are the main differences between lists and tuples in Python\n",
        "\n",
        "ANS= The main difference between lists and tuples in pyhton are-: A.list is mutable data type whereas tuple is an immutable data type. B.for list we use \"[]\" square brackets whereas for tuple we use \"()\" parentheses. C.list is slower as compare to tuple. D.Data in list can be changed where as data in tuple are unchangable.\n",
        "\n",
        "4-Describe how dictionaries store data\n",
        "\n",
        "ANS= Dictionaries store data in key-value pairs. Each key is unique, and it points to a specific value. student = {\"name\": \"Alice\", \"age\": 20} \"name\" and \"age\" are keys, \"Alice\" and 20 are values\n",
        "\n",
        "5- Why might you use a set instead of a list in Python\n",
        "\n",
        "ANS= A.Sets automatically remove duplicate values. B.They are faster than lists for checking if a value exists.\n",
        "\n",
        "my_set = {1, 2, 3, 3} print(my_set) # Output: {1, 2, 3}\n",
        "\n",
        "6- What is a string in Python, and how is it different from a list\n",
        "\n",
        "ANS= A string is a sequence of characters, like \"hello\".\n",
        "A list is a sequence of items, which can be of any data type.\n",
        "\n",
        "Key Differences:\n",
        "\n",
        "Strings are immutable, lists are mutable.\n",
        "\n",
        "Strings can only hold characters; lists can hold any data type.\n",
        "\n",
        "7- How do tuples ensure data integrity in Python.\n",
        "\n",
        "ANS=Since tuples are immutable, the data inside cannot be accidentally changed. This makes them ideal for storing fixed data like dates, coordinates, or configurations. coordinates = (10, 20) # Cannot be changed accidentally.\n",
        "\n",
        "8- What is a hash table, and how does it relate to dictionaries in Python.\n",
        "\n",
        "ANS= A hash table is a data structure that stores key-value pairs. It uses a hash function to quickly find where to store or locate a key.\n",
        "\n",
        "Python dictionaries are built using hash tables. This allows them to access values very fast using keys.\n",
        "\n",
        "9-Can lists contain different data types in Python.\n",
        "\n",
        "ANS=Yes, lists in Python can hold different data types. my_list = [1, \"hello\", 3.14, True]\n",
        "\n",
        "10-Explain why strings are immutable in Python.\n",
        "\n",
        "ANS=Strings are immutable to:\n",
        "\n",
        "Improve performance (especially in loops)\n",
        "\n",
        "Make them hashable (so they can be used as dictionary keys)\n",
        "\n",
        "Prevent accidental changes\n",
        "\n",
        "If you need to modify a string, you create a new one.\n",
        "\n",
        "11- What advantages do dictionaries offer over lists for certain tasks. ANS=Faster lookups using keys\n",
        "Clear structure with named keys instead of index numbers\n",
        "\n",
        "No need to remember index positions Better readability student = {\"name\": \"Emma\", \"grade\": 90}\n",
        "\n",
        "12-Describe a scenario where using a tuple would be preferable over a list.\n",
        "\n",
        "ANS=Use a tuple when:\n",
        "You don’t want the data to change (e.g., coordinates)\n",
        "\n",
        "You want to use it as a key in a dictionary (tuples are hashable)\n",
        "\n",
        "Example: coordinates = (40.7128, -74.0060) # City location\n",
        "\n",
        "13-How do sets handle duplicate values in Python.\n",
        "\n",
        "ANS=Sets automatically remove duplicates. If you add the same value more than once, it only keeps one copy.\n",
        "my_set = {1, 2, 2, 3} print(my_set) # Output: {1, 2, 3}\n",
        "\n",
        "14-How does the “in” keyword work differently for lists and dictionaries.\n",
        "\n",
        "ANS=In a list, in checks if a value is present as an element. my_list = [1, 2, 3] print(2 in my_list) # True\n",
        "In a dictionary, in checks if a value is a key (not a value). my_dict = {\"name\": \"Alice\", \"age\": 25} print(\"name\" in my_dict) # True print(\"Alice\" in my_dict) # False\n",
        "\n",
        "15-Can you modify the elements of a tuple? Explain why or why not.\n",
        "\n",
        "ANS=No, you cannot modify elements of a tuple because tuples are immutable. Once created, their content cannot be changed. my_tuple = (1, 2, 3) my_tuple[0] = 10 # This will raise an error This immutability ensures data integrity.\n",
        "\n",
        "16-What is a nested dictionary, and give an example of its use case.\n",
        "\n",
        "ANS=A nested dictionary is a dictionary that contains another dictionary as a value. Example: student = { \"name\": \"Emma\", \"grades\": {\"math\": 90, \"science\": 85} } Use Case: Useful for storing structured data like a database:\n",
        "\n",
        "Students with multiple subjects\n",
        "\n",
        "Employees with details like address, contact, etc.\n",
        "\n",
        "17- Describe the time complexity of accessing elements in a dictionary.\n",
        "\n",
        "ANS=Accessing elements in a dictionary is usually O(1) (constant time) because it uses a hash table internally. my_dict = {\"a\": 1, \"b\": 2} print(my_dict[\"b\"]) # Fast lookup\n",
        "\n",
        "18-In what situations are lists preferred over dictionaries.\n",
        "\n",
        "ANS=Use lists when:\n",
        "\n",
        "Order of elements matters\n",
        "\n",
        "You just need a collection of values without keys\n",
        "\n",
        "You need to loop through items in order\n",
        "\n",
        "Example: colors = [\"red\", \"blue\", \"green\"] Use it for:\n",
        "\n",
        "Storing items like names, numbers, or tasks\n",
        "\n",
        "Simple sequences without needing labels\n",
        "\n",
        "19-Why are dictionaries considered unordered, and how does that affect data retrieval.\n",
        "\n",
        "ANS=In older versions of Python (before Python 3.7), dictionaries were considered unordered because they did not maintain the order in which items were added. The key-value pairs were stored based on how they were hashed, not by their insertion order.\n",
        "Example (pre-3.7 behavior): my_dict = {\"a\": 1, \"b\": 2, \"c\": 3} The order of items when printed could be different each time\n",
        "\n",
        "Modern Python (3.7 and above) Starting with Python 3.7, dictionaries do preserve the insertion order of keys. However, they are still logically unordered in the sense that:\n",
        "\n",
        "You should not rely on their order for logic.\n",
        "\n",
        "You cannot access items by index like a list.\n",
        "\n",
        "How Does That Affect Data Retrieval? You retrieve values by key, not by position or order.\n",
        "\n",
        "This makes lookup very fast (usually O(1), constant time).\n",
        "\n",
        "But you can't say “give me the second item” like you can with a list.\n",
        "\n",
        "Example: my_dict = {\"name\": \"Emma\", \"age\": 20} print(my_dict[\"age\"]) # Access by key, not position\n",
        "\n",
        "20-Explain the difference between a list and a dictionary in terms of data retrieval.\n",
        "\n",
        "ANS=A list and a dictionary are both used to store collections of data in Python, but they retrieve data in different ways:\n",
        "List: Retrieval by Index (Position)\n",
        "\n",
        "Each item is stored in a specific order, and you access it using a number called an index.\n",
        "\n",
        "Indexes start from 0. Example: my_list = [\"apple\", \"banana\", \"cherry\"] print(my_list[1]) # Output: \"banana\" Use Case: When the order matters and you don't need labels for each item.\n",
        "\n",
        "Dictionary: Retrieval by Key\n",
        "\n",
        "Data is stored in key-value pairs, and you access values by their key, not by position.\n",
        "\n",
        "Keys are unique and act like labels for the data. Example: my_dict = {\"fruit1\": \"apple\", \"fruit2\": \"banana\"} print(my_dict[\"fruit2\"]) # Output: \"banana\" Use Case: When you want to label your data and retrieve items quickly using those labels."
      ],
      "metadata": {
        "id": "zU7s2MvoUCOS"
      }
    },
    {
      "cell_type": "code",
      "source": [
        "#question1\n",
        "#write a code to create a string with your name and print it.\n",
        "name=(\"SAURABH GUPTA\")\n",
        "print(name)\n",
        "print(type(name))"
      ],
      "metadata": {
        "colab": {
          "base_uri": "https://localhost:8080/"
        },
        "id": "xiL7yix0V9y-",
        "outputId": "d9271b40-3a0b-4664-d66c-dbf531c0535c"
      },
      "execution_count": 2,
      "outputs": [
        {
          "output_type": "stream",
          "name": "stdout",
          "text": [
            "SAURABH GUPTA\n",
            "<class 'str'>\n"
          ]
        }
      ]
    },
    {
      "cell_type": "code",
      "source": [
        "#question2\n",
        "#write a code to find the lenght of the string \"hello world\".\n",
        "text=(\"hello world\")\n",
        "print(len(text))\n"
      ],
      "metadata": {
        "colab": {
          "base_uri": "https://localhost:8080/"
        },
        "id": "pLIrHBk7Wmmn",
        "outputId": "98de3991-067d-4e97-8153-4f897e720524"
      },
      "execution_count": 3,
      "outputs": [
        {
          "output_type": "stream",
          "name": "stdout",
          "text": [
            "11\n"
          ]
        }
      ]
    },
    {
      "cell_type": "code",
      "source": [
        "#question3\n",
        "#write a code to slice typhe first 3 characters from the string \"python programming\".\n",
        "name=(\"python programming\")\n",
        "print(name[0:3])"
      ],
      "metadata": {
        "colab": {
          "base_uri": "https://localhost:8080/"
        },
        "id": "_ikMbbXXWqPX",
        "outputId": "e3e6c99a-a0c3-4649-e5eb-f95b98ccfff1"
      },
      "execution_count": 4,
      "outputs": [
        {
          "output_type": "stream",
          "name": "stdout",
          "text": [
            "pyt\n"
          ]
        }
      ]
    },
    {
      "cell_type": "code",
      "source": [
        "#question4\n",
        "#write code to convert the string \"hello\" to uppercase.\n",
        "str=\"hello\"\n",
        "uppercase_str=str.upper()\n",
        "print(uppercase_str)\n",
        ""
      ],
      "metadata": {
        "colab": {
          "base_uri": "https://localhost:8080/"
        },
        "id": "Zl5DQ6gEWtoG",
        "outputId": "96e3ac3b-8fc8-4a89-e566-daf5c2103814"
      },
      "execution_count": 5,
      "outputs": [
        {
          "output_type": "stream",
          "name": "stdout",
          "text": [
            "HELLO\n"
          ]
        }
      ]
    },
    {
      "cell_type": "code",
      "source": [
        "#question5\n",
        "#write a code to replace the word \"apple with \"orange in the string i like apple.\n",
        "fruit=(\"i like apple\")\n",
        "new_fruit=fruit.replace(\"apple\",\"orange\")\n",
        "print(new_fruit)"
      ],
      "metadata": {
        "colab": {
          "base_uri": "https://localhost:8080/"
        },
        "id": "rL0Rd7R9WxZA",
        "outputId": "2fbab1cc-3568-440d-ca31-7b873edd64c0"
      },
      "execution_count": 6,
      "outputs": [
        {
          "output_type": "stream",
          "name": "stdout",
          "text": [
            "i like orange\n"
          ]
        }
      ]
    },
    {
      "cell_type": "code",
      "source": [
        "#question6\n",
        "##write a code to create a list with numbers 1 to 5 and print it.\n",
        "num_list=[1,2,3,4,5]\n",
        "print(num_list)\n",
        "print(type(num_list))"
      ],
      "metadata": {
        "colab": {
          "base_uri": "https://localhost:8080/"
        },
        "id": "HGGUd8zcW0bj",
        "outputId": "9b7d74ac-f3de-49dc-c1e8-f4368d26df26"
      },
      "execution_count": 7,
      "outputs": [
        {
          "output_type": "stream",
          "name": "stdout",
          "text": [
            "[1, 2, 3, 4, 5]\n",
            "<class 'list'>\n"
          ]
        }
      ]
    },
    {
      "cell_type": "code",
      "source": [
        "#question7\n",
        "#write a code to append the number to the list[1,2,3,4].\n",
        "list=[1,2,3,4]\n",
        "list.append(10)\n",
        "print(list)"
      ],
      "metadata": {
        "colab": {
          "base_uri": "https://localhost:8080/"
        },
        "id": "4xaUgyv7W23O",
        "outputId": "cd32b214-89d5-49df-fdb8-78798b4d388b"
      },
      "execution_count": 8,
      "outputs": [
        {
          "output_type": "stream",
          "name": "stdout",
          "text": [
            "[1, 2, 3, 4, 10]\n"
          ]
        }
      ]
    },
    {
      "cell_type": "code",
      "source": [
        "#question8\n",
        "#write a code to remove the number 3 from the list[1,2,3,4,5].\n",
        "list=[1,2,3,4,5]\n",
        "list.remove(3)\n",
        "print(list)"
      ],
      "metadata": {
        "colab": {
          "base_uri": "https://localhost:8080/"
        },
        "id": "apawPiOgW5aV",
        "outputId": "8d233858-40a5-498e-d364-a0f5f6927a69"
      },
      "execution_count": 9,
      "outputs": [
        {
          "output_type": "stream",
          "name": "stdout",
          "text": [
            "[1, 2, 4, 5]\n"
          ]
        }
      ]
    },
    {
      "cell_type": "code",
      "source": [
        "#question9\n",
        "#write a code to access the second element in the list[\"a\",\"b\",\"c\",\"d\"]\n",
        "list=[\"a\",\"b\",\"c\",\"d\"]\n",
        "print(list[1])"
      ],
      "metadata": {
        "colab": {
          "base_uri": "https://localhost:8080/"
        },
        "id": "woKpQ-JYXEfQ",
        "outputId": "03cf845e-12bb-40b5-b534-a770fed7ba95"
      },
      "execution_count": 10,
      "outputs": [
        {
          "output_type": "stream",
          "name": "stdout",
          "text": [
            "b\n"
          ]
        }
      ]
    },
    {
      "cell_type": "code",
      "source": [
        "#question10\n",
        "#write a code to reverse the list[10,20,30,40].\n",
        "list=[10,20,30,40,50]\n",
        "list.reverse()\n",
        "print(list)"
      ],
      "metadata": {
        "colab": {
          "base_uri": "https://localhost:8080/"
        },
        "id": "Qg8XcZsqXG2v",
        "outputId": "5cc6ed7f-2fc3-4f95-ce0e-998242b668c9"
      },
      "execution_count": 11,
      "outputs": [
        {
          "output_type": "stream",
          "name": "stdout",
          "text": [
            "[50, 40, 30, 20, 10]\n"
          ]
        }
      ]
    },
    {
      "cell_type": "code",
      "source": [
        "#question11\n",
        "#write  acode to create a tuple with the elements 100,200,300 and print it.\n",
        "tuple=(100,200,300)\n",
        "print(tuple)\n",
        "print(type(tuple))"
      ],
      "metadata": {
        "colab": {
          "base_uri": "https://localhost:8080/"
        },
        "id": "SwK1DoE7XJ26",
        "outputId": "03f31228-6677-4398-9b22-5d81342f2d69"
      },
      "execution_count": 12,
      "outputs": [
        {
          "output_type": "stream",
          "name": "stdout",
          "text": [
            "(100, 200, 300)\n",
            "<class 'tuple'>\n"
          ]
        }
      ]
    },
    {
      "cell_type": "code",
      "source": [
        "#question12\n",
        "#write a code to access the second to last element of the tuple(\"red\",\"green\",\"blue\",\"yellow\").\n",
        "tuple=(\"red\",\"green\",\"blue\",\"yellow\")\n",
        "print(tuple[1:len(tuple)])\n",
        ""
      ],
      "metadata": {
        "colab": {
          "base_uri": "https://localhost:8080/"
        },
        "id": "xwhJxc2xXMpi",
        "outputId": "9f45ff1a-5a1c-492a-8e6d-a35a2f2c5fef"
      },
      "execution_count": 13,
      "outputs": [
        {
          "output_type": "stream",
          "name": "stdout",
          "text": [
            "('green', 'blue', 'yellow')\n"
          ]
        }
      ]
    },
    {
      "cell_type": "code",
      "source": [
        "#question13\n",
        "#write  a code to find the minimun number in the tuple(10,20,5,15).\n",
        "num=(10,20,5,15)\n",
        "minimun=min(num)\n",
        "print(minimun)"
      ],
      "metadata": {
        "colab": {
          "base_uri": "https://localhost:8080/"
        },
        "id": "QIMWucgpXOzq",
        "outputId": "a0aec0a9-0e57-4621-a8eb-ffa3ecb6cb6a"
      },
      "execution_count": 14,
      "outputs": [
        {
          "output_type": "stream",
          "name": "stdout",
          "text": [
            "5\n"
          ]
        }
      ]
    },
    {
      "cell_type": "code",
      "source": [
        "#question14\n",
        "#write a code to find the index of the element \"cat\" in the tuple(\"dog\",\"cat\",\"rabbit\").\n",
        "animals=(\"dog\",\"cat\",\"rabbit\")\n",
        "index=animals.index(\"cat\")\n",
        "print(index)"
      ],
      "metadata": {
        "colab": {
          "base_uri": "https://localhost:8080/"
        },
        "id": "f1iZ0cVSXXr8",
        "outputId": "fda32bec-2f74-4599-8b86-a63f4296b3c8"
      },
      "execution_count": 15,
      "outputs": [
        {
          "output_type": "stream",
          "name": "stdout",
          "text": [
            "1\n"
          ]
        }
      ]
    },
    {
      "cell_type": "code",
      "source": [
        "#question15\n",
        "#write a code to create a tuple containing three different fruits and check if \"kiwi\" is in it.\n",
        "fruits=(\"apple\",\"orange\",\"blueberry\",\"kiwi\")\n",
        "if \"kiwi\" in fruits:\n",
        "    print(\"my fruit has kiwi in it:\",True)\n",
        "else:\n",
        "    print(\"kiwi doesnt exists in my fruit:\",False)"
      ],
      "metadata": {
        "colab": {
          "base_uri": "https://localhost:8080/"
        },
        "id": "tlsl9NiYXaeW",
        "outputId": "09bd5929-76ec-4f32-c726-c98f402c98c5"
      },
      "execution_count": 16,
      "outputs": [
        {
          "output_type": "stream",
          "name": "stdout",
          "text": [
            "my fruit has kiwi in it: True\n"
          ]
        }
      ]
    },
    {
      "cell_type": "code",
      "source": [
        "#question16\n",
        "#write a code to create a set with the numbers 1 to 5 and print it.\n",
        "my_set={1,2,3,4,5}\n",
        "print(my_set)\n",
        "print(type(my_set))"
      ],
      "metadata": {
        "colab": {
          "base_uri": "https://localhost:8080/"
        },
        "id": "mDR4gIwBXc_k",
        "outputId": "0aed4b06-390a-42a1-e6d1-51e9be89b712"
      },
      "execution_count": 17,
      "outputs": [
        {
          "output_type": "stream",
          "name": "stdout",
          "text": [
            "{1, 2, 3, 4, 5}\n",
            "<class 'set'>\n"
          ]
        }
      ]
    },
    {
      "cell_type": "code",
      "source": [
        "#question17\n",
        "#write a code to clear all elements from the set{1,2,3,4}.\n",
        "set={1,2,3,4}\n",
        "set.clear()\n",
        "print(set)"
      ],
      "metadata": {
        "colab": {
          "base_uri": "https://localhost:8080/"
        },
        "id": "4mf4iqqzXiGJ",
        "outputId": "42e11783-395a-4887-d40c-6f14afeeb382"
      },
      "execution_count": 18,
      "outputs": [
        {
          "output_type": "stream",
          "name": "stdout",
          "text": [
            "set()\n"
          ]
        }
      ]
    },
    {
      "cell_type": "code",
      "source": [
        "#question18\n",
        "#write a code to remove the element 4 from the set{1,2,3,4}.\n",
        "my_set={1,2,3,4}\n",
        "my_set.remove(4)\n",
        "print(my_set)"
      ],
      "metadata": {
        "colab": {
          "base_uri": "https://localhost:8080/"
        },
        "id": "tp_Pb0WkXi82",
        "outputId": "7c8ac7ca-5ae6-44f3-dd71-9a206b3c74a8"
      },
      "execution_count": 19,
      "outputs": [
        {
          "output_type": "stream",
          "name": "stdout",
          "text": [
            "{1, 2, 3}\n"
          ]
        }
      ]
    },
    {
      "cell_type": "code",
      "source": [
        "#question19\n",
        "#write  a code to find the union of two sets {1,2,3} and {3,4,5}\n",
        "num={1,2,3}\n",
        "num2={3,4,5}\n",
        "print(num|num2)\n",
        ""
      ],
      "metadata": {
        "colab": {
          "base_uri": "https://localhost:8080/"
        },
        "id": "IF7pytJTXlN_",
        "outputId": "d51a7fe4-4574-4adb-e281-68c650ee74bf"
      },
      "execution_count": 20,
      "outputs": [
        {
          "output_type": "stream",
          "name": "stdout",
          "text": [
            "{1, 2, 3, 4, 5}\n"
          ]
        }
      ]
    },
    {
      "cell_type": "code",
      "source": [
        "#question20\n",
        "#write  a code to find the intersection of two sets {1,2,3} and {2,3,4}.\n",
        "num={1,2,3}\n",
        "num2={2,3,4}\n",
        "print(num&num2)"
      ],
      "metadata": {
        "colab": {
          "base_uri": "https://localhost:8080/"
        },
        "id": "0nleMYBOXp1y",
        "outputId": "06249ca4-6b4b-443e-f008-be71aa684bdf"
      },
      "execution_count": 21,
      "outputs": [
        {
          "output_type": "stream",
          "name": "stdout",
          "text": [
            "{2, 3}\n"
          ]
        }
      ]
    },
    {
      "cell_type": "code",
      "source": [
        "#question21\n",
        "#write  a code to create a dictionary with the keys \"name\",\"age\"and \"city\" and print it.\n",
        "dict={\n",
        "    \"name\":\"ryan\",\n",
        "    \"age\":20,\n",
        "    \"city\":\"jamshedpur\",\n",
        "}\n",
        "print(dict)"
      ],
      "metadata": {
        "colab": {
          "base_uri": "https://localhost:8080/"
        },
        "id": "_4OSMHikXvGk",
        "outputId": "d66434f8-9eb8-4790-9715-b237bca6a101"
      },
      "execution_count": 22,
      "outputs": [
        {
          "output_type": "stream",
          "name": "stdout",
          "text": [
            "{'name': 'ryan', 'age': 20, 'city': 'jamshedpur'}\n"
          ]
        }
      ]
    },
    {
      "cell_type": "code",
      "source": [
        "#question22\n",
        "#write a code to add a new key-value pair \"country\":\"usa\" to the dictionary{name john and age 25}.\n",
        "dict={\n",
        "    \"name\":\"john\",\n",
        "    \"age\":25,\n",
        "}\n",
        "dict.update({\"country\":\"usa\"})\n",
        "print(dict)"
      ],
      "metadata": {
        "colab": {
          "base_uri": "https://localhost:8080/"
        },
        "id": "8OO6d-fzXxbV",
        "outputId": "e07dc8dc-3c20-4c78-d990-38c2d20d6099"
      },
      "execution_count": 23,
      "outputs": [
        {
          "output_type": "stream",
          "name": "stdout",
          "text": [
            "{'name': 'john', 'age': 25, 'country': 'usa'}\n"
          ]
        }
      ]
    },
    {
      "cell_type": "code",
      "source": [
        "#question23\n",
        "#write a code to access the value associated with the keys\"name \" in the dictionary {name alice and age 30}.\n",
        "dict={\n",
        "    \"name\":\"SAURABH\",\n",
        "    \"age\":30,\n",
        "}\n",
        "print(dict[\"name\"])"
      ],
      "metadata": {
        "colab": {
          "base_uri": "https://localhost:8080/"
        },
        "id": "AqLGeyLqXz0n",
        "outputId": "c85dbee3-bca6-42aa-c0d5-0ea715108d8b"
      },
      "execution_count": 25,
      "outputs": [
        {
          "output_type": "stream",
          "name": "stdout",
          "text": [
            "SAURABH\n"
          ]
        }
      ]
    },
    {
      "cell_type": "code",
      "source": [
        "#question24\n",
        "#write a  code to remove the key \"age\" from the dictionary {name bob age 22 city new york}.\n",
        "dict={\n",
        "    \"name\":\"SAURABH\",\n",
        "    \"age\":22,\n",
        "    \"city\":\"Shahdol\"\n",
        "}\n",
        "dict.pop(\"age\")\n",
        "print(dict)"
      ],
      "metadata": {
        "colab": {
          "base_uri": "https://localhost:8080/"
        },
        "id": "O1OHAv4LX2HX",
        "outputId": "aad8914f-f49d-47ef-bb49-e0380d2152ce"
      },
      "execution_count": 27,
      "outputs": [
        {
          "output_type": "stream",
          "name": "stdout",
          "text": [
            "{'name': 'SAURABH', 'city': 'Shahdol'}\n"
          ]
        }
      ]
    },
    {
      "cell_type": "code",
      "source": [
        "#question25\n",
        "#write a code to check if the key city exists in the dictionary {name alice city paris}.\n",
        "dict={\n",
        "    \"name\":\"alice\",\n",
        "    \"city\":\"paris\",\n",
        "}\n",
        "if \"city\" in dict:\n",
        "    print(\"city exists\")\n",
        "else:\n",
        "    print(\"city doesnt exists\")\n"
      ],
      "metadata": {
        "colab": {
          "base_uri": "https://localhost:8080/"
        },
        "id": "w1IPazfvYA9n",
        "outputId": "9be99aaf-4435-4791-a8cb-2a26269fee58"
      },
      "execution_count": 28,
      "outputs": [
        {
          "output_type": "stream",
          "name": "stdout",
          "text": [
            "city exists\n"
          ]
        }
      ]
    },
    {
      "cell_type": "code",
      "source": [
        "#question26\n",
        "#write a code to create a list a tuple and a dictionary and print the all.\n",
        "list=[1,2,3,4]\n",
        "tuple=(24,12,20,22)\n",
        "dict={\n",
        "    \"name\":\"Saurabh\",\n",
        "    \"age\":20,\n",
        "    \"hobby\":\"Guitar playing\",\n",
        "}\n",
        "print(list)\n",
        "print(tuple)\n",
        "print(dict)"
      ],
      "metadata": {
        "colab": {
          "base_uri": "https://localhost:8080/"
        },
        "id": "4YbMA1kXX7jW",
        "outputId": "50d07fd5-861e-4bd1-dc8c-00614d4e58fe"
      },
      "execution_count": 29,
      "outputs": [
        {
          "output_type": "stream",
          "name": "stdout",
          "text": [
            "[1, 2, 3, 4]\n",
            "(24, 12, 20, 22)\n",
            "{'name': 'Saurabh', 'age': 20, 'hobby': 'Guitar playing'}\n"
          ]
        }
      ]
    },
    {
      "cell_type": "code",
      "source": [
        "#question27\n",
        "#write a code to create a list of 5 random numbers between 1 and 100,sort in ascending order and print the result (replaced).\n",
        "list=[12,24,4,20]\n",
        "list.sort()\n",
        "print(list)"
      ],
      "metadata": {
        "colab": {
          "base_uri": "https://localhost:8080/"
        },
        "id": "e22DT8VzYOUV",
        "outputId": "8c341c26-0c1b-4947-c44a-5c081adf06ae"
      },
      "execution_count": 30,
      "outputs": [
        {
          "output_type": "stream",
          "name": "stdout",
          "text": [
            "[4, 12, 20, 24]\n"
          ]
        }
      ]
    },
    {
      "cell_type": "code",
      "source": [
        "#question28\n",
        "#write a code to create a list with strings and print the element at the third index.\n",
        "list=[\"apple\",\"graps\",\"blueberry\",\"orange\"]\n",
        "print(list[3])\n"
      ],
      "metadata": {
        "colab": {
          "base_uri": "https://localhost:8080/"
        },
        "id": "lzlaIW89YR-m",
        "outputId": "a3f31484-de05-4d5d-c045-3a1c40db6ade"
      },
      "execution_count": 31,
      "outputs": [
        {
          "output_type": "stream",
          "name": "stdout",
          "text": [
            "orange\n"
          ]
        }
      ]
    },
    {
      "cell_type": "code",
      "source": [
        "#question29\n",
        "#write a code to combine two dictionaries into one and print the result.\n",
        "dict={\n",
        "    \"name\":\"Saurabh\",\n",
        "    \"age\":27,\n",
        "}\n",
        "dict2={\n",
        "    \"name\":\"Gaurav\",\n",
        "    \"age\":25,\n",
        "}\n",
        "combined_dict={**dict ,**dict2}\n",
        "print(combined_dict)"
      ],
      "metadata": {
        "colab": {
          "base_uri": "https://localhost:8080/"
        },
        "id": "0KT-rXHOYUQY",
        "outputId": "24dac160-6c18-4192-ba92-39247e81c253"
      },
      "execution_count": 33,
      "outputs": [
        {
          "output_type": "stream",
          "name": "stdout",
          "text": [
            "{'name': 'Gaurav', 'age': 25}\n"
          ]
        }
      ]
    },
    {
      "cell_type": "code",
      "source": [
        "#question30\n",
        "#write a code to convert a list of strings into a set.\n",
        "string_list=[\"saurabh\",\"gaurav\",\"sachin\"]\n",
        "unique_list=[]\n",
        "for iteam in string_list:\n",
        "    if iteam not in unique_list:\n",
        "      unique_list.append(iteam)\n",
        "print(\"{\"+\",\".join(unique_list)+\"}\")\n"
      ],
      "metadata": {
        "colab": {
          "base_uri": "https://localhost:8080/"
        },
        "id": "qm0PvNSPYXmo",
        "outputId": "f8efc864-10da-4468-9226-3856b1227bb2"
      },
      "execution_count": 34,
      "outputs": [
        {
          "output_type": "stream",
          "name": "stdout",
          "text": [
            "{saurabh,gaurav,sachin}\n"
          ]
        }
      ]
    }
  ]
}