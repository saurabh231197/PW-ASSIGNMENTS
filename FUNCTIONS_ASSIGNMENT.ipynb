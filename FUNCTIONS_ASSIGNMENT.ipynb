{
  "nbformat": 4,
  "nbformat_minor": 0,
  "metadata": {
    "colab": {
      "provenance": [],
      "collapsed_sections": [
        "v4oPnrIhWmas"
      ]
    },
    "kernelspec": {
      "name": "python3",
      "display_name": "Python 3"
    },
    "language_info": {
      "name": "python"
    }
  },
  "cells": [
    {
      "cell_type": "markdown",
      "source": [
        "# Theoretical Questions"
      ],
      "metadata": {
        "id": "aQo3IuA0unUK"
      }
    },
    {
      "cell_type": "markdown",
      "source": [
        "## Functions Assignment\n",
        "-----------------------------------------------------------------\n",
        "Q1. What is the difference between a function and a method in Python?\n",
        "- Functions are nothing but a block of code which performs a specific task and can be called again and again as per requirement in the code.\n",
        "- Characteristics of Functions:\n",
        "    - Simplifying Tasks\n",
        "    - Reusability\n",
        "    - Keeping Things Organized\n",
        "    - Does not require an object to be called\n",
        "\n",
        "- A method is a function that is bound to an object and is declared inside a class. Methods take action on the object they are called from and may read from, write to, or update the attributes and state of the object.\n",
        "- Characteristics of a Method:\n",
        "    - Defined inside a class\n",
        "    - Requires an instance of the class (object) to be called\n",
        "    - Called using an object or class name\n",
        "\n",
        "              # example:\n",
        "              def total(a,b):\n",
        "              return a+b\n",
        "              total(2,3) # call the function with arguments\n",
        "          \n",
        "           # output: 5\n",
        "\n",
        "-----------------------------------------------------------------\n",
        "Q2. Explain the concept of function arguments and parameters in Python.\n",
        "- Parameters are the placeholders (variables) listed in a function definition. They define the input that the function expects. while,\n",
        "- Arguments are the actual values passed to the function when it is called.\n",
        "\n",
        "              # example:\n",
        "              def add(a, b):  \n",
        "                  return a + b\n",
        "              result = add(3, 5)\n",
        "              print(result)  \n",
        "              \n",
        "            # Output: 8\n",
        "\n",
        "here:\n",
        "    \n",
        "  - 'a' and 'b' are parameters\n",
        "  - 3 and 5 are arguments\n",
        "\n",
        "\n",
        "\n",
        "-----------------------------------------------------------------\n",
        "Q3. What are the different ways to define and call a function in Python?\n",
        "- Ways to Define Functions in Python:\n",
        "    - Using `def` Keyword\n",
        "    - Function with Default Parameters\n",
        "    - Function with Variable-Length Arguments `*args` and `**kwargs`\n",
        "    - `Lambda` Function\n",
        "    - Nested Functions\n",
        "\n",
        "- Ways to Call Functions in python:\n",
        "    - Calling a Function Directly\n",
        "              # example:\n",
        "              def a():\n",
        "              print(\"Calling a function directly!!\")\n",
        "              a()  \n",
        "            # Output: Calling a function directly!!\n",
        "            \n",
        "    - Calling a Function with Arguments\n",
        "              # example:\n",
        "              def add(a, b):\n",
        "              return a + b\n",
        "              print(add(3, 5))  \n",
        "            # Output: 8\n",
        "\n",
        "    - Calling Functions with Default Values\n",
        "              example:\n",
        "              def greet(name=\"Guest\"):\n",
        "              print(f\"Welcome, {name}!\")\n",
        "\n",
        "              greet()            \n",
        "              greet(\"AVINESH\")\n",
        "\n",
        "            # Output: Welcome, Guest!     \n",
        "            # Output: Welcome, AVINESH!\n",
        "\n",
        "    - Using Variable-Length Arguments\n",
        "              # example:\n",
        "              def display_info(*args, **kwargs):\n",
        "              print(args)       # Tuple of positional arguments\n",
        "              print(kwargs)     # Dictionary of keyword arguments\n",
        "              display_info(10, 20, 30, name=\"AVINESH\", age=21)\n",
        "          \n",
        "           # Output:\n",
        "          # (10, 20, 30)\n",
        "          # {'name': 'AVINESH', 'age': 21}\n",
        "\n",
        "    - Calling a Lambda Function\n",
        "              # example:\n",
        "              square = lambda x: x ** 2\n",
        "              print(square(4))  \n",
        "          \n",
        "          # Output: 16\n",
        "\n",
        "\n",
        "\n",
        "-----------------------------------------------------------------\n",
        "Q4. What is the purpose of the `return` statement in a Python function?\n",
        "- A return statement ends the execution of a function, and returns control to the calling function.\n",
        "- Functions are nothing but a block of code which performs a specific task and can be called again and again as per requirement in the code.\n",
        "- Purpose of `return` statement:\n",
        "    - Used to produce a result.    \n",
        "    - Stops the execution of function.  \n",
        "    - Sends a value back to the caller.\n",
        "\n",
        "              syntax:\n",
        "              def function_name():\n",
        "              return value\n",
        "              ---------------------------------------\n",
        "              # example:\n",
        "              def add(a, b):\n",
        "                  return a + b  \n",
        "              result = add(3, 5)\n",
        "              print(result)  \n",
        "            \n",
        "            # Output: 8\n",
        "\n",
        "-----------------------------------------------------------------\n",
        "Q5. What are iterators in Python and how do they differ from iterables?\n",
        "- An iterator is actually an object that represents a stream of data. It tracks the current position, allowing you to fetch elements one at a time, using the `next()` function.\n",
        "- Iterators implement two methods:\n",
        "    - `iter()` Returns the iterator object itself.\n",
        "    - `next()` Returns the next item in the sequence. Raises `StopIteration` when there are no more items.\n",
        "              # example\n",
        "              my_list = [1, 2, 3]\n",
        "              my_iterator = iter(my_list)  # Convert the iterable to an iterator\n",
        "\n",
        "              print(next(my_iterator))  # Output: 1\n",
        "              print(next(my_iterator))  # Output: 2\n",
        "              print(next(my_iterator))  # Output: 3\n",
        "              print(next(my_iterator))  # Raises StopIteration\n",
        "\n",
        "- An iterator is the object that provides the items of an iterable one at a time using `next()` while, an iterable is any object you can loop over or pass to `iter()` to obtain an iterator.\n",
        "\n",
        "-----------------------------------------------------------------\n",
        "Q6. Explain the concept of generators in Python and how they are defined.\n",
        "- A generator function is a function that contains at least one yield statement. Instead of returning a value using return, it yields values one at a time by using `yield` argument.\n",
        "- When the generator function is called, it returns a generator object without executing the code.\n",
        "\n",
        "              syntax:\n",
        "              def generator_function():\n",
        "                  yield value\n",
        "              ---------------------------------------\n",
        "        \n",
        "              # example\n",
        "              def count_up_to(n):\n",
        "                  count = 1\n",
        "                  while count <= n:\n",
        "                      yield count  # Yield the current value of count\n",
        "                      count += 1\n",
        "\n",
        "              # Using the generator\n",
        "              counter = count_up_to(3)\n",
        "              print(next(counter))  \n",
        "              print(next(counter))  \n",
        "              print(next(counter))  \n",
        "\n",
        "            # Output: 1\n",
        "            # Output: 2\n",
        "            # Output: 3\n",
        "              # Calling next again will raise StopIteration\n",
        "\n",
        "\n",
        "-----------------------------------------------------------------\n",
        "Q7. What are the advantages of using generators over regular functions?\n",
        "- Advantages of using generators\n",
        "    - Memory efficiency: Generators generate on demand, thus saving memory.\n",
        "    - Infinite sequences: can be represented by generators as they don't hold any value in the memory.\n",
        "    - Fast Execution: Generators don't have to precompute or store all values.\n",
        "    - Lazy Evaluation: Values are produced only when required.\n",
        "    - Simpler Code: Reduces boilerplate code for iterators.\n",
        "\n",
        "-----------------------------------------------------------------\n",
        "Q8. What is a lambda function in Python and when is it typically used?\n",
        "- A lambda function in Python is an anonymous function defined using the lambda keyword. Unlike standard functions defined with the def keyword, a lambda function has no name and is typically used for short, simple operations where defining a full function is unnecessary.\n",
        "\n",
        "              syntax:\n",
        "              lambda arguments: expression\n",
        "              ---------------------------------------\n",
        "              # example:\n",
        "              add = lambda x, y: x + y\n",
        "              print(add(10, 5))  \n",
        "            \n",
        "            # Output: 15\n",
        "\n",
        "-----------------------------------------------------------------\n",
        "Q9. Explain the purpose and usage of the `map()` function in Python.\n",
        "- A built-in function in Python, the `map()` function takes all items in an iterable such as a list, tuple, or string and applies a given function to each of them returning an iterator which is a map object of those results.\n",
        "- The main purpose of the map() function is to transform each item of an iterable (for example, list, tuple) using a specified function. Instead of writing a loop to manually process each item, map() provides a cleaner and more efficient way to apply a function to all elements in a single line of code.\n",
        "\n",
        "              syntax:\n",
        "              map(function, iterable, ...)\n",
        "              ---------------------------------------\n",
        "              # example:\n",
        "              num = [1, 2, 5, 14, 25]\n",
        "              sq_num = list(map(lambda x: x**2, num))\n",
        "              print(sq_num)\n",
        "       # Output: [1, 4, 25, 196, 625]\n",
        "\n",
        "\n",
        "-----------------------------------------------------------------\n",
        "Q10. What is the difference between `map()`, `reduce()`, and `filter()` functions in Python?\n",
        "- the `map()` function takes all items in an iterable such as a list, tuple, or string and applies a given function to each of them returning an iterator which is a map object of those results.\n",
        "    - The main purpose of`map()` function is to transform each element in an iterable.\n",
        "\n",
        "              syntax:\n",
        "              map(function, iterable, ...)\n",
        "              ---------------------------------------\n",
        "              # example:\n",
        "              num = [1, 2, 5, 14, 25]\n",
        "              sq_num = list(map(lambda x: x**2, num))\n",
        "              print(sq_num)\n",
        "      \n",
        "          # Output: [1, 4, 25, 196, 625]\n",
        "\n",
        "- The `filter()` function applies a function that returns a boolean, True or False, to every item in an iterable and returns only the elements where the function evaluates to True.\n",
        "    - The purpose of `filter()` function is to filter elements in an iterable based on a condition.\n",
        "\n",
        "              syntax:\n",
        "              filter(function, iterable)\n",
        "              ---------------------------------------\n",
        "              # example:\n",
        "              #filter even numbers from list\n",
        "              numbers = [1, 2, 32, 14, 51, 63, 102]\n",
        "              evens = filter(lambda x: x % 2 == 0, numbers)\n",
        "              print(list(evens))  \n",
        "          \n",
        "           # Output: [2, 32, 14, 102]\n",
        "\n",
        "- The `reduce()` function, from the functools module, applies a binary function-a function that takes two arguments-to all items in an iterable going from left to right, so as to reduce the iterable to a single cumulative result.\n",
        "    - The purpose of `reduce()` function is theo reduce an iterable to a single value by applying a function cumulatively.\n",
        "              syntax:\n",
        "              functools.reduce(function, iterable[, initializer])\n",
        "              ---------------------------------------\n",
        "              # example:\n",
        "              from functools import reduce\n",
        "              numbers = [1, 2, 3, 4]\n",
        "              total = reduce(lambda x, y: x + y, numbers)\n",
        "              print(total)  \n",
        "              \n",
        "              # Output: 10\n",
        "\n",
        "-----------------------------------------------------------------\n",
        "Q11. Using pen & Paper write the internal mechanism for sum operation using  reduce function on this given\n",
        "list:[47,11,42,13];\n",
        "- Sorry sir I'm unable to insert picture because of the width and size of the image so that's why i have uploaded the file in drive and the link for that picture is this: [Picture](https://drive.google.com/file/d/1FEoNwt6DzyJ0I58ZV7w3hcdOuDwG5OIZ/view?usp=sharing)\n",
        "         \n",
        "          python codes:\n",
        "          from functools import reduce\n",
        "          result = reduce(lambda x, y: x + y, [47, 11, 42, 13])\n",
        "          print(result)  \n",
        "        \n",
        "        # Output: 113\n",
        "\n",
        "----------------------------------------------------------------"
      ],
      "metadata": {
        "id": "T6iZjorMRcmQ"
      }
    },
    {
      "cell_type": "markdown",
      "source": [
        "# Practical Questions"
      ],
      "metadata": {
        "id": "v4oPnrIhWmas"
      }
    },
    {
      "cell_type": "code",
      "source": [
        "#Practical question\n",
        "'''\n",
        "Q1. Write a Python function that takes a list of numbers as input and returns the sum of all even numbers in\n",
        "the list.\n",
        "\n",
        "'''\n",
        "'''\n",
        "Answere:-1\n",
        "'''\n",
        "n = list(map(int, input(\"Enter numbers separated by spaces: \").split()))\n",
        "def sum_of_even(n):\n",
        "    a = 0\n",
        "    for num in n:\n",
        "        if isinstance(num, int) and num % 2 == 0:\n",
        "            a += num\n",
        "    return a\n",
        "sum_of_even(n)"
      ],
      "metadata": {
        "colab": {
          "base_uri": "https://localhost:8080/"
        },
        "id": "zjSRenvmWxwc",
        "outputId": "6fa65c75-dd0c-43ee-c1aa-1b4755260b30"
      },
      "execution_count": null,
      "outputs": [
        {
          "name": "stdout",
          "output_type": "stream",
          "text": [
            "Enter numbers separated by spaces: 1 5 25 75 22 42 54 \n"
          ]
        },
        {
          "output_type": "execute_result",
          "data": {
            "text/plain": [
              "118"
            ]
          },
          "metadata": {},
          "execution_count": 1
        }
      ]
    },
    {
      "cell_type": "code",
      "source": [
        "#Practical question\n",
        "'''\n",
        "Q2.  Create a Python function that accepts a string and returns the reverse of that string.\n",
        "\n",
        "'''\n",
        "'''\n",
        "Answere:-2\n",
        "'''\n",
        "input_string = input(\"Enter a string:\")\n",
        "def rev_string(input_string):\n",
        "  return input_string[::-1]\n",
        "rev_string(input_string)"
      ],
      "metadata": {
        "colab": {
          "base_uri": "https://localhost:8080/",
          "height": 53
        },
        "id": "sSCmDPOsXBrg",
        "outputId": "786f097c-35f3-4af6-b4cf-7c1bc5f1b8eb"
      },
      "execution_count": null,
      "outputs": [
        {
          "name": "stdout",
          "output_type": "stream",
          "text": [
            "Enter a string:AVINESH\n"
          ]
        },
        {
          "output_type": "execute_result",
          "data": {
            "text/plain": [
              "'HSENIVA'"
            ],
            "application/vnd.google.colaboratory.intrinsic+json": {
              "type": "string"
            }
          },
          "metadata": {},
          "execution_count": 42
        }
      ]
    },
    {
      "cell_type": "code",
      "source": [
        "#Practical question\n",
        "'''\n",
        "Q3. Implement a Python function that takes a list of integers and returns a new list containing the squares of\n",
        "each number.\n",
        "\n",
        "'''\n",
        "'''\n",
        "Answere:-3\n",
        "'''\n",
        "numbers = [1,5,14,25,225, 5000,15452]\n",
        "def square_numbers(numbers):\n",
        "    if not isinstance(numbers, list):\n",
        "        return []\n",
        "    if not numbers:\n",
        "        return []\n",
        "    sq_num = []\n",
        "    for number in numbers:\n",
        "        if not isinstance(number, int):\n",
        "            return None\n",
        "        sq_num.append(number**2)\n",
        "    return sq_num\n",
        "square_numbers(numbers)"
      ],
      "metadata": {
        "colab": {
          "base_uri": "https://localhost:8080/"
        },
        "id": "zOY6LuLRXAZA",
        "outputId": "2c29c900-c6ac-45b7-8c62-1986b11e64bd"
      },
      "execution_count": null,
      "outputs": [
        {
          "output_type": "execute_result",
          "data": {
            "text/plain": [
              "[1, 25, 196, 625, 50625, 25000000, 238764304]"
            ]
          },
          "metadata": {},
          "execution_count": 43
        }
      ]
    },
    {
      "cell_type": "code",
      "source": [
        "#Practical question\n",
        "'''\n",
        "Q4. Write a Python function that checks if a given number is prime or not from 1 to 200.\n",
        "\n",
        "'''\n",
        "'''\n",
        "Answere:-4\n",
        "'''\n",
        "#i'm specifying the seperate varible for storing the starting and ending range\n",
        "#seperating the varible helps in modifying the range\n",
        "start = int(input(\"Enter the start of the range: \"))\n",
        "end = int(input(\"Enter the end of the range: \"))\n",
        "def is_prime(num):\n",
        "    if num <= 1:\n",
        "        return False\n",
        "    if num == 2:\n",
        "        return True\n",
        "    if num % 2 == 0:\n",
        "        return False\n",
        "    for i in range(3, int(num**0.5) + 1, 2):\n",
        "        if num % i == 0:\n",
        "            return False\n",
        "    return True\n",
        "primes = [num for num in range(start , end) if is_prime(num)]\n",
        "\n",
        "print(\"Prime numbers from\" , start, \"to\", end, \":\", primes)"
      ],
      "metadata": {
        "colab": {
          "base_uri": "https://localhost:8080/"
        },
        "id": "VUTjCETwXAO6",
        "outputId": "ca5dfc7b-277c-4e77-b689-1033ad860456"
      },
      "execution_count": null,
      "outputs": [
        {
          "output_type": "stream",
          "name": "stdout",
          "text": [
            "Enter the start of the range: 1\n",
            "Enter the end of the range: 200\n",
            "Prime numbers from 1 to 200 : [2, 3, 5, 7, 11, 13, 17, 19, 23, 29, 31, 37, 41, 43, 47, 53, 59, 61, 67, 71, 73, 79, 83, 89, 97, 101, 103, 107, 109, 113, 127, 131, 137, 139, 149, 151, 157, 163, 167, 173, 179, 181, 191, 193, 197, 199]\n"
          ]
        }
      ]
    },
    {
      "cell_type": "code",
      "source": [
        "#Practical question\n",
        "'''\n",
        "Q5.  Create an iterator class in Python that generates the Fibonacci sequence up to a specified number of\n",
        "terms.\n",
        "\n",
        "'''\n",
        "'''\n",
        "Answere:-5\n",
        "'''\n",
        "n = int(input(\"Enter a specific number:\"))\n",
        "def fib(n):\n",
        "    a = 0\n",
        "    b = 1\n",
        "    for i in range(n):\n",
        "        yield a\n",
        "        a, b = b, a+b\n",
        "fib_series = fib(n)\n",
        "print(list(fib_series))"
      ],
      "metadata": {
        "colab": {
          "base_uri": "https://localhost:8080/"
        },
        "id": "9roqW88XXAFH",
        "outputId": "8875ea04-7fc3-46e6-add0-8d72491268e4"
      },
      "execution_count": null,
      "outputs": [
        {
          "output_type": "stream",
          "name": "stdout",
          "text": [
            "Enter a specific number:5\n",
            "[0, 1, 1, 2, 3]\n"
          ]
        }
      ]
    },
    {
      "cell_type": "code",
      "source": [
        "#Practical question\n",
        "'''\n",
        "Q6. Write a generator function in Python that yields the powers of 2 up to a given exponent.\n",
        "\n",
        "'''\n",
        "'''\n",
        "Answere:-6\n",
        "'''\n",
        "exponent = int(input(\"Enter your number:\"))\n",
        "def power(exponent):\n",
        "    for i in range(exponent + 1):\n",
        "        yield 2**i\n",
        "a= power(exponent)\n",
        "print(list(a))"
      ],
      "metadata": {
        "colab": {
          "base_uri": "https://localhost:8080/"
        },
        "id": "0QH_Pf7sW_7U",
        "outputId": "322090fa-ad3f-4f4d-fb91-3e92db75cdba"
      },
      "execution_count": null,
      "outputs": [
        {
          "output_type": "stream",
          "name": "stdout",
          "text": [
            "Enter your number:5\n",
            "[1, 2, 4, 8, 16, 32]\n"
          ]
        }
      ]
    },
    {
      "cell_type": "code",
      "source": [
        "#Practical question\n",
        "'''\n",
        "Q7. Implement a generator function that reads a file line by line and yields each line as a string.\n",
        "\n",
        "'''\n",
        "'''\n",
        "Answere:-7\n",
        "'''\n",
        "def read_file(file_path):\n",
        "    \"\"\"\n",
        "    A generator function that reads a file line by line and yields each line.\n",
        "\n",
        "    Args:\n",
        "        file_path (str): The path to the file to read.\n",
        "    \"\"\"\n",
        "    with open(file_path, 'r') as file:\n",
        "        for line in file:\n",
        "            yield line.strip()  # Using strip() to remove trailing newlines\n",
        "\n",
        "# Example Usage\n",
        "if __name__ == \"__main__\":\n",
        "    file_path = '/content/drive/MyDrive/Pwskills assignments/sample.txt'  # Specify the file path\n",
        "\n",
        "    print(f\"Reading lines from {file_path}:\")\n",
        "\n",
        "    for line in read_file(file_path):\n",
        "        print(line)\n"
      ],
      "metadata": {
        "colab": {
          "base_uri": "https://localhost:8080/"
        },
        "id": "4bk_6l_pW_xd",
        "outputId": "e1284177-6ee2-44a4-939f-77198f85b2e4"
      },
      "execution_count": null,
      "outputs": [
        {
          "output_type": "stream",
          "name": "stdout",
          "text": [
            "Reading lines from /content/drive/MyDrive/Pwskills assignments/sample.txt:\n",
            "this is code written by AVINESH MASIH\n",
            "by using generator function\n"
          ]
        }
      ]
    },
    {
      "cell_type": "code",
      "source": [
        "#Practical question\n",
        "'''\n",
        "Q8. Use a lambda function in Python to sort a list of tuples based on the second element of each tuple.\n",
        "\n",
        "'''\n",
        "'''\n",
        "Answere:-8\n",
        "'''\n",
        "list1 = [(1, 60), (3, 20), (22, 18), (4, 11)]\n",
        "sort = sorted(list1, key=lambda x: x[1])\n",
        "sort"
      ],
      "metadata": {
        "colab": {
          "base_uri": "https://localhost:8080/"
        },
        "id": "dza8PsvHW_n0",
        "outputId": "fc59e122-0fff-4c67-a96a-d02e13901b92"
      },
      "execution_count": null,
      "outputs": [
        {
          "output_type": "execute_result",
          "data": {
            "text/plain": [
              "[(4, 11), (22, 18), (3, 20), (1, 60)]"
            ]
          },
          "metadata": {},
          "execution_count": 51
        }
      ]
    },
    {
      "cell_type": "code",
      "source": [
        "#Practical question\n",
        "'''\n",
        "Q9. Write a Python program that uses `map()` to convert a list of temperatures from Celsius to Fahrenheit.\n",
        "\n",
        "'''\n",
        "'''\n",
        "Answere:-9\n",
        "'''\n",
        "cels_temp = [0, 10, 20, 30, 40]\n",
        "cels_temp_c = [str(temp) + \"°C\" for temp in cels_temp]\n",
        "print ((\"The Celsius temperature list is:\",cels_temp_c ))\n",
        "def cels_to_fahr(cels):\n",
        "  return str((cels * 9/5) + 32) + \"°F\"  #celsius to fahrenheit formula   #°F = °C × (9/5) + 32\n",
        "fahr_temp = list(map(cels_to_fahr, cels_temp))\n",
        "\n",
        "print(\"The celsius to Fahrenheit convetred temperature is:\" ,fahr_temp)"
      ],
      "metadata": {
        "colab": {
          "base_uri": "https://localhost:8080/"
        },
        "id": "kz4MfB1tW_eq",
        "outputId": "1cb676ec-e88a-4e1e-8579-e3c042cf6706"
      },
      "execution_count": null,
      "outputs": [
        {
          "output_type": "stream",
          "name": "stdout",
          "text": [
            "('The Celsius temperature list is:', ['0°C', '10°C', '20°C', '30°C', '40°C'])\n",
            "The celsius to Fahrenheit convetred temperature is: ['32.0°F', '50.0°F', '68.0°F', '86.0°F', '104.0°F']\n"
          ]
        }
      ]
    },
    {
      "cell_type": "code",
      "source": [
        "#Practical question\n",
        "'''\n",
        "Q10. Create a Python program that uses `filter()` to remove all the vowels from a given string.\n",
        "\n",
        "'''\n",
        "'''\n",
        "Answere:-10\n",
        "'''\n",
        "val = input(\"Enter a string: \")\n",
        "def remove(val):\n",
        "  vow = \"aeiouAEIOU\"\n",
        "  return \"\".join(filter(lambda word: word not in vow, val))\n",
        "remove(val)"
      ],
      "metadata": {
        "colab": {
          "base_uri": "https://localhost:8080/",
          "height": 53
        },
        "id": "5ibZFuscW_Ue",
        "outputId": "9e06d357-2345-4dc1-8174-5afafbb9f10f"
      },
      "execution_count": null,
      "outputs": [
        {
          "name": "stdout",
          "output_type": "stream",
          "text": [
            "Enter a string: avineshMASIH\n"
          ]
        },
        {
          "output_type": "execute_result",
          "data": {
            "text/plain": [
              "'vnshMSH'"
            ],
            "application/vnd.google.colaboratory.intrinsic+json": {
              "type": "string"
            }
          },
          "metadata": {},
          "execution_count": 53
        }
      ]
    },
    {
      "cell_type": "code",
      "source": [
        "#Practical question\n",
        "'''\n",
        "Q11.  Imagine an accounting routine used in a book shop. It works on a list with sublists, which look like this:\n",
        "\n",
        "Order Number     Book Title and Author               Quantity      Price per Item\n",
        "\n",
        "34587            Learning Python, Mark Lutz              4              40.95\n",
        "98762            Programming Python, Mark Lutz           5              56.80\n",
        "77226            Head First Python, Paul Barry           3              32.95\n",
        "88112            Einführung in Python3, Bernd Klein      3              24.99\n",
        "\n",
        "\n",
        "\n",
        "\n",
        "Write a Python program, which returns a list with 2-tuples. Each tuple consists of the order number and the\n",
        "product of the price per item and the quantity. The product should be increased by 10,- € if the value of the\n",
        "order is smaller than 100,00 €.\n",
        "\n",
        "Write a Python program using lambda and map.\n",
        "\n",
        "'''\n",
        "'''\n",
        "Answere:-11\n",
        "'''\n",
        "book_shop = [\n",
        "    [34587, 'Learning Python, Mark Lutz', 4, 40.95],\n",
        "    [98762, 'Programming Python, Mark Lutz', 5, 56.80],\n",
        "    [77226, 'Head First Python, Paul Barry', 3, 32.95],\n",
        "    [88112, 'Einführung in Python3, Bernd Klein', 3, 24.99]\n",
        "]\n",
        "final_list = list(map(lambda order: (order[0], order[2] * order[3] + 10 if (order[2] * order[3]) < 100 else order[2] * order[3]), book_shop))\n",
        "\n",
        "print(final_list)\n"
      ],
      "metadata": {
        "colab": {
          "base_uri": "https://localhost:8080/"
        },
        "id": "l5BzYmNMZfGj",
        "outputId": "a86f4f28-a1a3-4088-f9c8-b1b8311bfadb"
      },
      "execution_count": null,
      "outputs": [
        {
          "output_type": "stream",
          "name": "stdout",
          "text": [
            "[(34587, 163.8), (98762, 284.0), (77226, 108.85000000000001), (88112, 84.97)]\n"
          ]
        }
      ]
    }
  ]
}